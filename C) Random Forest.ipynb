{
 "cells": [
  {
   "cell_type": "markdown",
   "id": "pressed-manual",
   "metadata": {},
   "source": [
    "<b><center>Random Forest Algorithm</center></b>"
   ]
  },
  {
   "cell_type": "markdown",
   "id": "broadband-enlargement",
   "metadata": {},
   "source": [
    "In statistics and machine learning, ensemble methods use multiple learning algorithms to obtain better predictive performance than could be obtained from any of the constituent learning algorithms alone."
   ]
  },
  {
   "cell_type": "markdown",
   "id": "associate-olympus",
   "metadata": {},
   "source": [
    "Ensemble learning is the process by which multiple models, such as classifiers or experts, are strategically generated and combined to solve a particular computational intelligence problem. <br>\n",
    "Ensemble learning is primarily used to improve the performance of a model, or reduce the likelihood of an unfortunate selection of a poor one. Other applications of ensemble learning include assigning a confidence to the decision made by the model, selecting optimal features, error-correcting etc."
   ]
  },
  {
   "cell_type": "markdown",
   "id": "009abd19-6d9e-42fb-9bd7-f23149286e29",
   "metadata": {},
   "source": [
    "<b>Why to use ensemble techniques?</b><br>\n",
    "There are two main reasons to use an ensemble over a single model, and they are related; they are: <br>\n",
    "\n",
    "- Performance: An ensemble can make better predictions and achieve better performance than any single contributing model.\n",
    "- Robustness: An ensemble reduces the spread or dispersion of the predictions and model performance.\n",
    "Ensembles are used to achieve better predictive performance on a predictive modeling problem than a single predictive model. The way this is achieved can be understood as the model reducing the variance component of the prediction error by adding bias "
   ]
  },
  {
   "cell_type": "markdown",
   "id": "improved-appreciation",
   "metadata": {},
   "source": [
    "Common types of ensembles:\n",
    "- Bayes optimal classifier\n",
    "- Bootstrap aggregating (bagging)\n",
    "- Boosting\n",
    "- Bayesian model averaging\n",
    "- Bayesian model combination\n",
    "- Bucket of models\n",
    "- Stacking"
   ]
  },
  {
   "cell_type": "markdown",
   "id": "infrared-password",
   "metadata": {},
   "source": [
    "Random Forest Algorithm comes under Bootstrap aggregating (bagging) which is a type of supervised learning algorithm.<br>\n",
    "Bootstrap aggregating, also called bagging (from bootstrap aggregating), is a machine learning ensemble meta-algorithm designed to improve the stability and accuracy of machine learning algorithms used in statistical classification and regression. It also reduces variance and helps to avoid overfitting. Although it is usually applied to decision tree methods, it can be used with any type of method."
   ]
  },
  {
   "cell_type": "markdown",
   "id": "2e59a7dd-4fa3-4254-8589-bf120d5a7919",
   "metadata": {},
   "source": [
    "Bagging is composed of two parts: aggregation and bootstrapping. Bootstrapping is a sampling method, where a sample is chosen out of a set, using the replacement method. The learning algorithm is then run on the samples selected. <br>\n",
    "\n",
    "The bootstrapping technique uses sampling with replacements to make the selection procedure completely random. When a sample is selected without replacement, the subsequent selections of variables are always dependent on the previous selections, making the criteria non-random."
   ]
  },
  {
   "cell_type": "markdown",
   "id": "9e650a01-56b1-4a56-a177-0c8894111ab6",
   "metadata": {},
   "source": [
    "Model predictions undergo aggregation to combine them for the final prediction to consider all the possible outcomes. The aggregation can be done based on the total number of outcomes or the probability of predictions derived from the bootstrapping of every model in the procedure."
   ]
  },
  {
   "cell_type": "markdown",
   "id": "f796ef8c-6009-4db5-8202-5a0386000d62",
   "metadata": {},
   "source": [
    "<center><img src=\"https://upload.wikimedia.org/wikipedia/commons/thumb/c/c8/Ensemble_Bagging.svg/440px-Ensemble_Bagging.svg.png\"></img></center>"
   ]
  },
  {
   "cell_type": "markdown",
   "id": "725c835e-ae8a-412a-b01f-21d500ce930a",
   "metadata": {},
   "source": [
    "Let's try to understand Random Forest Algorithm more clearly."
   ]
  },
  {
   "cell_type": "markdown",
   "id": "59bfc3f8-08ed-4461-af4b-86689d688946",
   "metadata": {},
   "source": [
    "- So as to implement Random Forest Algorithm firstly, we take n number of random records are from the data set having k number of records. <br>\n",
    "\n",
    "- Then as Random Forest Algorithm is based on Decision Trees hence, individual decision trees are constructed for each sample. <br>\n",
    "\n",
    "- After constructing these decision treees, each tree will generate an output. <br>\n",
    "\n",
    "- Finally, the output is considered based on Majority Voting or Averaging for Classification and regression respectively."
   ]
  },
  {
   "cell_type": "markdown",
   "id": "2506ff83-fab3-4562-a2c4-2381abf7e432",
   "metadata": {},
   "source": [
    "Here we see bootstrapping is done by randomly selecting n records from the given k records and the individual decision trees are averaged out to obtain one output."
   ]
  },
  {
   "cell_type": "markdown",
   "id": "9cf87328-ac0a-4d2a-8730-b30ca857908a",
   "metadata": {},
   "source": [
    "<center><img src=\"https://editor.analyticsvidhya.com/uploads/33019random-forest-algorithm2.png\"></img></center>"
   ]
  },
  {
   "cell_type": "markdown",
   "id": "9fa59139-23e2-438e-b02e-73335180d9b2",
   "metadata": {},
   "source": [
    "This is also known as parallelization where each tree is created independently out of different data and attributes and combined together to form a single output."
   ]
  },
  {
   "cell_type": "markdown",
   "id": "20245a0d-2517-4214-ae16-4d52d5944fce",
   "metadata": {},
   "source": [
    "Now let's see how we can implement Random Forest Algorithm with the help of code."
   ]
  },
  {
   "cell_type": "code",
   "execution_count": 1,
   "id": "6df0f65d-8653-4416-918c-53e139c2ef00",
   "metadata": {},
   "outputs": [],
   "source": [
    "import pandas as pd\n",
    "import numpy as np\n",
    "import seaborn as sns\n",
    "import matplotlib.pyplot as plt\n",
    "from sklearn.metrics import r2_score\n",
    "from sklearn.model_selection import train_test_split\n",
    "\n",
    "import warnings\n",
    "warnings.filterwarnings('ignore')"
   ]
  },
  {
   "cell_type": "code",
   "execution_count": 2,
   "id": "b0a7e3ff-6495-4b2d-ae13-c3fed2df9855",
   "metadata": {},
   "outputs": [
    {
     "data": {
      "text/html": [
       "<div>\n",
       "<style scoped>\n",
       "    .dataframe tbody tr th:only-of-type {\n",
       "        vertical-align: middle;\n",
       "    }\n",
       "\n",
       "    .dataframe tbody tr th {\n",
       "        vertical-align: top;\n",
       "    }\n",
       "\n",
       "    .dataframe thead th {\n",
       "        text-align: right;\n",
       "    }\n",
       "</style>\n",
       "<table border=\"1\" class=\"dataframe\">\n",
       "  <thead>\n",
       "    <tr style=\"text-align: right;\">\n",
       "      <th></th>\n",
       "      <th>x</th>\n",
       "      <th>y</th>\n",
       "    </tr>\n",
       "  </thead>\n",
       "  <tbody>\n",
       "    <tr>\n",
       "      <th>0</th>\n",
       "      <td>59.000000</td>\n",
       "      <td>152.553428</td>\n",
       "    </tr>\n",
       "    <tr>\n",
       "      <th>1</th>\n",
       "      <td>88.696970</td>\n",
       "      <td>158.420441</td>\n",
       "    </tr>\n",
       "    <tr>\n",
       "      <th>2</th>\n",
       "      <td>87.443939</td>\n",
       "      <td>154.189316</td>\n",
       "    </tr>\n",
       "    <tr>\n",
       "      <th>3</th>\n",
       "      <td>110.090909</td>\n",
       "      <td>161.136969</td>\n",
       "    </tr>\n",
       "    <tr>\n",
       "      <th>4</th>\n",
       "      <td>126.787879</td>\n",
       "      <td>158.819572</td>\n",
       "    </tr>\n",
       "  </tbody>\n",
       "</table>\n",
       "</div>"
      ],
      "text/plain": [
       "            x           y\n",
       "0   59.000000  152.553428\n",
       "1   88.696970  158.420441\n",
       "2   87.443939  154.189316\n",
       "3  110.090909  161.136969\n",
       "4  126.787879  158.819572"
      ]
     },
     "execution_count": 2,
     "metadata": {},
     "output_type": "execute_result"
    }
   ],
   "source": [
    "df = pd.read_csv('Random-Forest-Data.csv')\n",
    "df.head(n=5)"
   ]
  },
  {
   "cell_type": "code",
   "execution_count": 3,
   "id": "16134dee-39d0-4048-8ed7-4cb912589f9e",
   "metadata": {},
   "outputs": [],
   "source": [
    "X = df.drop('y',axis=1)\n",
    "y1 = df['y']"
   ]
  },
  {
   "cell_type": "code",
   "execution_count": 4,
   "id": "55e1f2e7-ea88-4cf6-a3c4-8e0d7db27185",
   "metadata": {},
   "outputs": [],
   "source": [
    "X_train, X_test, y_train, y_test = train_test_split(X, y1, train_size=0.3, random_state=42)"
   ]
  },
  {
   "cell_type": "code",
   "execution_count": 5,
   "id": "f605da62-f5a5-4208-8347-0ae1d4e3eb8e",
   "metadata": {},
   "outputs": [
    {
     "data": {
      "text/html": [
       "<style>#sk-container-id-1 {color: black;background-color: white;}#sk-container-id-1 pre{padding: 0;}#sk-container-id-1 div.sk-toggleable {background-color: white;}#sk-container-id-1 label.sk-toggleable__label {cursor: pointer;display: block;width: 100%;margin-bottom: 0;padding: 0.3em;box-sizing: border-box;text-align: center;}#sk-container-id-1 label.sk-toggleable__label-arrow:before {content: \"▸\";float: left;margin-right: 0.25em;color: #696969;}#sk-container-id-1 label.sk-toggleable__label-arrow:hover:before {color: black;}#sk-container-id-1 div.sk-estimator:hover label.sk-toggleable__label-arrow:before {color: black;}#sk-container-id-1 div.sk-toggleable__content {max-height: 0;max-width: 0;overflow: hidden;text-align: left;background-color: #f0f8ff;}#sk-container-id-1 div.sk-toggleable__content pre {margin: 0.2em;color: black;border-radius: 0.25em;background-color: #f0f8ff;}#sk-container-id-1 input.sk-toggleable__control:checked~div.sk-toggleable__content {max-height: 200px;max-width: 100%;overflow: auto;}#sk-container-id-1 input.sk-toggleable__control:checked~label.sk-toggleable__label-arrow:before {content: \"▾\";}#sk-container-id-1 div.sk-estimator input.sk-toggleable__control:checked~label.sk-toggleable__label {background-color: #d4ebff;}#sk-container-id-1 div.sk-label input.sk-toggleable__control:checked~label.sk-toggleable__label {background-color: #d4ebff;}#sk-container-id-1 input.sk-hidden--visually {border: 0;clip: rect(1px 1px 1px 1px);clip: rect(1px, 1px, 1px, 1px);height: 1px;margin: -1px;overflow: hidden;padding: 0;position: absolute;width: 1px;}#sk-container-id-1 div.sk-estimator {font-family: monospace;background-color: #f0f8ff;border: 1px dotted black;border-radius: 0.25em;box-sizing: border-box;margin-bottom: 0.5em;}#sk-container-id-1 div.sk-estimator:hover {background-color: #d4ebff;}#sk-container-id-1 div.sk-parallel-item::after {content: \"\";width: 100%;border-bottom: 1px solid gray;flex-grow: 1;}#sk-container-id-1 div.sk-label:hover label.sk-toggleable__label {background-color: #d4ebff;}#sk-container-id-1 div.sk-serial::before {content: \"\";position: absolute;border-left: 1px solid gray;box-sizing: border-box;top: 0;bottom: 0;left: 50%;z-index: 0;}#sk-container-id-1 div.sk-serial {display: flex;flex-direction: column;align-items: center;background-color: white;padding-right: 0.2em;padding-left: 0.2em;position: relative;}#sk-container-id-1 div.sk-item {position: relative;z-index: 1;}#sk-container-id-1 div.sk-parallel {display: flex;align-items: stretch;justify-content: center;background-color: white;position: relative;}#sk-container-id-1 div.sk-item::before, #sk-container-id-1 div.sk-parallel-item::before {content: \"\";position: absolute;border-left: 1px solid gray;box-sizing: border-box;top: 0;bottom: 0;left: 50%;z-index: -1;}#sk-container-id-1 div.sk-parallel-item {display: flex;flex-direction: column;z-index: 1;position: relative;background-color: white;}#sk-container-id-1 div.sk-parallel-item:first-child::after {align-self: flex-end;width: 50%;}#sk-container-id-1 div.sk-parallel-item:last-child::after {align-self: flex-start;width: 50%;}#sk-container-id-1 div.sk-parallel-item:only-child::after {width: 0;}#sk-container-id-1 div.sk-dashed-wrapped {border: 1px dashed gray;margin: 0 0.4em 0.5em 0.4em;box-sizing: border-box;padding-bottom: 0.4em;background-color: white;}#sk-container-id-1 div.sk-label label {font-family: monospace;font-weight: bold;display: inline-block;line-height: 1.2em;}#sk-container-id-1 div.sk-label-container {text-align: center;}#sk-container-id-1 div.sk-container {/* jupyter's `normalize.less` sets `[hidden] { display: none; }` but bootstrap.min.css set `[hidden] { display: none !important; }` so we also need the `!important` here to be able to override the default hidden behavior on the sphinx rendered scikit-learn.org. See: https://github.com/scikit-learn/scikit-learn/issues/21755 */display: inline-block !important;position: relative;}#sk-container-id-1 div.sk-text-repr-fallback {display: none;}</style><div id=\"sk-container-id-1\" class=\"sk-top-container\"><div class=\"sk-text-repr-fallback\"><pre>RandomForestRegressor(max_depth=3, n_estimators=50, n_jobs=1, random_state=42)</pre><b>In a Jupyter environment, please rerun this cell to show the HTML representation or trust the notebook. <br />On GitHub, the HTML representation is unable to render, please try loading this page with nbviewer.org.</b></div><div class=\"sk-container\" hidden><div class=\"sk-item\"><div class=\"sk-estimator sk-toggleable\"><input class=\"sk-toggleable__control sk-hidden--visually\" id=\"sk-estimator-id-1\" type=\"checkbox\" checked><label for=\"sk-estimator-id-1\" class=\"sk-toggleable__label sk-toggleable__label-arrow\">RandomForestRegressor</label><div class=\"sk-toggleable__content\"><pre>RandomForestRegressor(max_depth=3, n_estimators=50, n_jobs=1, random_state=42)</pre></div></div></div></div></div>"
      ],
      "text/plain": [
       "RandomForestRegressor(max_depth=3, n_estimators=50, n_jobs=1, random_state=42)"
      ]
     },
     "execution_count": 5,
     "metadata": {},
     "output_type": "execute_result"
    }
   ],
   "source": [
    "from sklearn.ensemble import RandomForestRegressor\n",
    "rf = RandomForestRegressor(random_state=42, n_jobs=1, max_depth=3,n_estimators=50)\n",
    "rf.fit(X_train, y_train)"
   ]
  },
  {
   "cell_type": "code",
   "execution_count": 6,
   "id": "bafb8fd1-6fbd-49e9-a600-77bd7785c115",
   "metadata": {},
   "outputs": [],
   "source": [
    "y_pred = rf.predict(X_test) "
   ]
  },
  {
   "cell_type": "code",
   "execution_count": 7,
   "id": "313d6c42-808b-4fdf-8062-a5b5b27e7aac",
   "metadata": {},
   "outputs": [
    {
     "name": "stdout",
     "output_type": "stream",
     "text": [
      "The R2 score is  0.8894130486785599\n"
     ]
    }
   ],
   "source": [
    "r2 = r2_score(y_test, y_pred)\n",
    "print(\"The R2 score is \",r2)"
   ]
  },
  {
   "cell_type": "markdown",
   "id": "5507574f-d37f-4277-8466-46a7bd7d3314",
   "metadata": {},
   "source": [
    "Coefficient of determination also called as R2 score is used to evaluate the performance of a linear regression model. It is the amount of the variation in the output dependent attribute which is predictable from the input independent variable(s). It is used to check how well-observed results are reproduced by the model, depending on the ratio of total deviation of results described by the model. <br>\n",
    "It's formula is given by : <br>\n",
    "<b>R2= 1- SS(res) / SS(tot)</b>\n",
    "- where SS(res) is the sum of squares of the residual errors.\n",
    "- SS(tot) is the total sum of the errors."
   ]
  },
  {
   "cell_type": "markdown",
   "id": "5a11e61c-9d58-4378-bc81-ee2de9695026",
   "metadata": {},
   "source": [
    "We have completed our first ensembling algorithm. <br>\n",
    "Download the dataset from Kaggle and get started!"
   ]
  }
 ],
 "metadata": {
  "kernelspec": {
   "display_name": "Python 3 (ipykernel)",
   "language": "python",
   "name": "python3"
  },
  "language_info": {
   "codemirror_mode": {
    "name": "ipython",
    "version": 3
   },
   "file_extension": ".py",
   "mimetype": "text/x-python",
   "name": "python",
   "nbconvert_exporter": "python",
   "pygments_lexer": "ipython3",
   "version": "3.9.13"
  }
 },
 "nbformat": 4,
 "nbformat_minor": 5
}
