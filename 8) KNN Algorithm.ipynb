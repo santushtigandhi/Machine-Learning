{
 "cells": [
  {
   "cell_type": "markdown",
   "id": "selective-farming",
   "metadata": {},
   "source": [
    "<b><center> K Nearest Neighbor </center></b>"
   ]
  },
  {
   "cell_type": "markdown",
   "id": "center-shoot",
   "metadata": {},
   "source": [
    "KNN can be used for both classification and regression problems. However, it is more widely used in classification problem in the industry. It is a simple algorithm that stores all the available cases and classifies new cases by its majority votes of its k neighbors. The case being assigned to the class is most common against its k nearest neighbors measured by a distance formula."
   ]
  },
  {
   "cell_type": "markdown",
   "id": "corporate-pharmacology",
   "metadata": {},
   "source": [
    "These distance functions can be Manhattan, Euclidean, Minkowski and Hamming distance. First three functions are used for continuous variable and fourth one is used for categorical variable."
   ]
  },
  {
   "cell_type": "markdown",
   "id": "dressed-vampire",
   "metadata": {},
   "source": [
    "- Manhattan Distance"
   ]
  },
  {
   "cell_type": "markdown",
   "id": "human-threshold",
   "metadata": {},
   "source": [
    "Manhattan Distance is the sum of absolute differences between points across all the dimensions."
   ]
  },
  {
   "cell_type": "markdown",
   "id": "inclusive-envelope",
   "metadata": {},
   "source": [
    "Let's say there are 2 points - A(p1,p2) and B(q1,q2) <br>\n",
    "So, the Manhattan distance in a 2-dimensional space is given as: <br>\n",
    "    d = |p1 - q1| + |p2 - q2|"
   ]
  },
  {
   "cell_type": "markdown",
   "id": "broadband-plymouth",
   "metadata": {},
   "source": [
    "And the generalized formula for an n-dimensional space is given as: <br>\n",
    "    d = Σ(pi - qi) ,where summation goes from i=1 to n. <br>\n",
    "   - where n = number of dimensions\n",
    "   - p,q are data points"
   ]
  },
  {
   "cell_type": "markdown",
   "id": "threatened-edmonton",
   "metadata": {},
   "source": [
    "- Euclidean Distance"
   ]
  },
  {
   "cell_type": "markdown",
   "id": "attractive-improvement",
   "metadata": {},
   "source": [
    "Euclidean Distance represents the shortest distance between two points."
   ]
  },
  {
   "cell_type": "markdown",
   "id": "according-murder",
   "metadata": {},
   "source": [
    "Let's say there are 2 points - A(p1,p2) and B(q1,q2) <br>\n",
    "So, the Euclidean distance in a 2-dimensional space is given as: <br>\n",
    "    d = [(p1 - q1)^2 + (p2 - q2)^2]^1/2  <br>\n",
    "    where ^ means raise to the power"
   ]
  },
  {
   "cell_type": "markdown",
   "id": "painted-article",
   "metadata": {},
   "source": [
    "And the generalized formula for an n-dimensional space is given as: <br>\n",
    "    d = [Σ(pi - qi)^2]^ 1/2 ,where summation goes from i=1 to n. <br>\n",
    "   - where n = number of dimensions\n",
    "   - p,q are data points"
   ]
  },
  {
   "cell_type": "markdown",
   "id": "regular-billion",
   "metadata": {},
   "source": [
    "<img src=\"https://miro.medium.com/max/657/1*p2WnXXcQZzcFt3NHX50VjA.png\"></img>"
   ]
  },
  {
   "cell_type": "markdown",
   "id": "continued-credit",
   "metadata": {},
   "source": [
    "- Minkowski Distance"
   ]
  },
  {
   "cell_type": "markdown",
   "id": "needed-rider",
   "metadata": {},
   "source": [
    "Minkowski Distance is the generalized form of Euclidean and Manhattan Distance."
   ]
  },
  {
   "cell_type": "markdown",
   "id": "sonic-dairy",
   "metadata": {},
   "source": [
    "The formula for the Minkowski Distance is given as: <br>\n",
    "d = [Σ(pi - qi)^p]^ 1/p ,where summation goes from i=1 to n. <br>\n",
    "And, p represents the order of the norm."
   ]
  },
  {
   "cell_type": "markdown",
   "id": "aging-testament",
   "metadata": {},
   "source": [
    "The p parameter of the Minkowski Distance metric of SciPy represents the order of the norm. When the order(p) is 1, it will represent Manhattan Distance and when the order in the above formula is 2, it will represent Euclidean Distance."
   ]
  },
  {
   "cell_type": "markdown",
   "id": "starting-mobile",
   "metadata": {},
   "source": [
    "- Hamming Distance"
   ]
  },
  {
   "cell_type": "markdown",
   "id": "stock-italian",
   "metadata": {},
   "source": [
    "Hamming distance is best for categorical data. It measures the similarity between two strings of the same length. The Hamming Distance between two strings of the same length is the number of positions at which the corresponding characters are different."
   ]
  },
  {
   "cell_type": "markdown",
   "id": "challenging-transcription",
   "metadata": {},
   "source": [
    "For example - We have the words : \"Euclidean\" and \"Manhattan\". <br>\n",
    "Since the length of these strings is equal, we can calculate the Hamming Distance. We will go character by character and match the strings. The first character of both the strings (e and m respectively) is different. Similarly, the second character of both the strings (u and a) is different and so on. <br>\n",
    "\n",
    "Look carefully – seven characters are different whereas two characters (the last two characters) are similar. <br>\n",
    "Hence, the Hamming Distance here will be 7. <br>\n",
    "<b>Note : </b>Larger the Hamming Distance between two strings, more dissimilar will be those strings (and vice versa)."
   ]
  },
  {
   "cell_type": "markdown",
   "id": "comparable-athletics",
   "metadata": {},
   "source": [
    "Now let's take a dataset for this algorithm."
   ]
  },
  {
   "cell_type": "code",
   "execution_count": 1,
   "id": "noble-domestic",
   "metadata": {},
   "outputs": [],
   "source": [
    "import pandas as pd\n",
    "import numpy as np\n",
    "import matplotlib.pyplot as plt\n",
    "import seaborn as sns\n",
    "from sklearn.model_selection import train_test_split\n",
    "from sklearn.feature_selection import SelectKBest,chi2\n",
    "from sklearn.neighbors import KNeighborsClassifier, NeighborhoodComponentsAnalysis\n",
    "from sklearn.preprocessing import StandardScaler\n",
    "from sklearn.pipeline import Pipeline\n",
    "from sklearn.pipeline import make_pipeline\n",
    "from sklearn.linear_model import LogisticRegression\n",
    "from sklearn.decomposition import PCA\n",
    "\n",
    "import warnings\n",
    "warnings.filterwarnings('ignore')"
   ]
  },
  {
   "cell_type": "code",
   "execution_count": 2,
   "id": "shaped-treaty",
   "metadata": {},
   "outputs": [
    {
     "data": {
      "text/html": [
       "<div>\n",
       "<style scoped>\n",
       "    .dataframe tbody tr th:only-of-type {\n",
       "        vertical-align: middle;\n",
       "    }\n",
       "\n",
       "    .dataframe tbody tr th {\n",
       "        vertical-align: top;\n",
       "    }\n",
       "\n",
       "    .dataframe thead th {\n",
       "        text-align: right;\n",
       "    }\n",
       "</style>\n",
       "<table border=\"1\" class=\"dataframe\">\n",
       "  <thead>\n",
       "    <tr style=\"text-align: right;\">\n",
       "      <th></th>\n",
       "      <th>Unnamed: 0</th>\n",
       "      <th>WTT</th>\n",
       "      <th>PTI</th>\n",
       "      <th>EQW</th>\n",
       "      <th>SBI</th>\n",
       "      <th>LQE</th>\n",
       "      <th>QWG</th>\n",
       "      <th>FDJ</th>\n",
       "      <th>PJF</th>\n",
       "      <th>HQE</th>\n",
       "      <th>NXJ</th>\n",
       "      <th>TARGET CLASS</th>\n",
       "    </tr>\n",
       "  </thead>\n",
       "  <tbody>\n",
       "    <tr>\n",
       "      <th>0</th>\n",
       "      <td>0</td>\n",
       "      <td>0.913917</td>\n",
       "      <td>1.162073</td>\n",
       "      <td>0.567946</td>\n",
       "      <td>0.755464</td>\n",
       "      <td>0.780862</td>\n",
       "      <td>0.352608</td>\n",
       "      <td>0.759697</td>\n",
       "      <td>0.643798</td>\n",
       "      <td>0.879422</td>\n",
       "      <td>1.231409</td>\n",
       "      <td>1</td>\n",
       "    </tr>\n",
       "    <tr>\n",
       "      <th>1</th>\n",
       "      <td>1</td>\n",
       "      <td>0.635632</td>\n",
       "      <td>1.003722</td>\n",
       "      <td>0.535342</td>\n",
       "      <td>0.825645</td>\n",
       "      <td>0.924109</td>\n",
       "      <td>0.648450</td>\n",
       "      <td>0.675334</td>\n",
       "      <td>1.013546</td>\n",
       "      <td>0.621552</td>\n",
       "      <td>1.492702</td>\n",
       "      <td>0</td>\n",
       "    </tr>\n",
       "    <tr>\n",
       "      <th>2</th>\n",
       "      <td>2</td>\n",
       "      <td>0.721360</td>\n",
       "      <td>1.201493</td>\n",
       "      <td>0.921990</td>\n",
       "      <td>0.855595</td>\n",
       "      <td>1.526629</td>\n",
       "      <td>0.720781</td>\n",
       "      <td>1.626351</td>\n",
       "      <td>1.154483</td>\n",
       "      <td>0.957877</td>\n",
       "      <td>1.285597</td>\n",
       "      <td>0</td>\n",
       "    </tr>\n",
       "    <tr>\n",
       "      <th>3</th>\n",
       "      <td>3</td>\n",
       "      <td>1.234204</td>\n",
       "      <td>1.386726</td>\n",
       "      <td>0.653046</td>\n",
       "      <td>0.825624</td>\n",
       "      <td>1.142504</td>\n",
       "      <td>0.875128</td>\n",
       "      <td>1.409708</td>\n",
       "      <td>1.380003</td>\n",
       "      <td>1.522692</td>\n",
       "      <td>1.153093</td>\n",
       "      <td>1</td>\n",
       "    </tr>\n",
       "    <tr>\n",
       "      <th>4</th>\n",
       "      <td>4</td>\n",
       "      <td>1.279491</td>\n",
       "      <td>0.949750</td>\n",
       "      <td>0.627280</td>\n",
       "      <td>0.668976</td>\n",
       "      <td>1.232537</td>\n",
       "      <td>0.703727</td>\n",
       "      <td>1.115596</td>\n",
       "      <td>0.646691</td>\n",
       "      <td>1.463812</td>\n",
       "      <td>1.419167</td>\n",
       "      <td>1</td>\n",
       "    </tr>\n",
       "    <tr>\n",
       "      <th>5</th>\n",
       "      <td>5</td>\n",
       "      <td>0.833928</td>\n",
       "      <td>1.523302</td>\n",
       "      <td>1.104743</td>\n",
       "      <td>1.021139</td>\n",
       "      <td>1.107377</td>\n",
       "      <td>1.010930</td>\n",
       "      <td>1.279538</td>\n",
       "      <td>1.280677</td>\n",
       "      <td>0.510350</td>\n",
       "      <td>1.528044</td>\n",
       "      <td>0</td>\n",
       "    </tr>\n",
       "    <tr>\n",
       "      <th>6</th>\n",
       "      <td>6</td>\n",
       "      <td>0.944705</td>\n",
       "      <td>1.251761</td>\n",
       "      <td>1.074885</td>\n",
       "      <td>0.286473</td>\n",
       "      <td>0.996440</td>\n",
       "      <td>0.428860</td>\n",
       "      <td>0.910805</td>\n",
       "      <td>0.755305</td>\n",
       "      <td>1.111800</td>\n",
       "      <td>1.110842</td>\n",
       "      <td>0</td>\n",
       "    </tr>\n",
       "    <tr>\n",
       "      <th>7</th>\n",
       "      <td>7</td>\n",
       "      <td>0.816174</td>\n",
       "      <td>1.088392</td>\n",
       "      <td>0.895343</td>\n",
       "      <td>0.243860</td>\n",
       "      <td>0.943123</td>\n",
       "      <td>1.045131</td>\n",
       "      <td>1.146536</td>\n",
       "      <td>1.341886</td>\n",
       "      <td>1.225324</td>\n",
       "      <td>1.425784</td>\n",
       "      <td>0</td>\n",
       "    </tr>\n",
       "    <tr>\n",
       "      <th>8</th>\n",
       "      <td>8</td>\n",
       "      <td>0.776551</td>\n",
       "      <td>1.463812</td>\n",
       "      <td>0.783825</td>\n",
       "      <td>0.337278</td>\n",
       "      <td>0.742215</td>\n",
       "      <td>1.072756</td>\n",
       "      <td>0.880300</td>\n",
       "      <td>1.312951</td>\n",
       "      <td>1.118165</td>\n",
       "      <td>1.225922</td>\n",
       "      <td>0</td>\n",
       "    </tr>\n",
       "    <tr>\n",
       "      <th>9</th>\n",
       "      <td>9</td>\n",
       "      <td>0.772280</td>\n",
       "      <td>0.515111</td>\n",
       "      <td>0.891596</td>\n",
       "      <td>0.940862</td>\n",
       "      <td>1.430568</td>\n",
       "      <td>0.885876</td>\n",
       "      <td>1.205231</td>\n",
       "      <td>0.596858</td>\n",
       "      <td>1.542580</td>\n",
       "      <td>0.981879</td>\n",
       "      <td>1</td>\n",
       "    </tr>\n",
       "  </tbody>\n",
       "</table>\n",
       "</div>"
      ],
      "text/plain": [
       "   Unnamed: 0       WTT       PTI       EQW       SBI       LQE       QWG  \\\n",
       "0           0  0.913917  1.162073  0.567946  0.755464  0.780862  0.352608   \n",
       "1           1  0.635632  1.003722  0.535342  0.825645  0.924109  0.648450   \n",
       "2           2  0.721360  1.201493  0.921990  0.855595  1.526629  0.720781   \n",
       "3           3  1.234204  1.386726  0.653046  0.825624  1.142504  0.875128   \n",
       "4           4  1.279491  0.949750  0.627280  0.668976  1.232537  0.703727   \n",
       "5           5  0.833928  1.523302  1.104743  1.021139  1.107377  1.010930   \n",
       "6           6  0.944705  1.251761  1.074885  0.286473  0.996440  0.428860   \n",
       "7           7  0.816174  1.088392  0.895343  0.243860  0.943123  1.045131   \n",
       "8           8  0.776551  1.463812  0.783825  0.337278  0.742215  1.072756   \n",
       "9           9  0.772280  0.515111  0.891596  0.940862  1.430568  0.885876   \n",
       "\n",
       "        FDJ       PJF       HQE       NXJ  TARGET CLASS  \n",
       "0  0.759697  0.643798  0.879422  1.231409             1  \n",
       "1  0.675334  1.013546  0.621552  1.492702             0  \n",
       "2  1.626351  1.154483  0.957877  1.285597             0  \n",
       "3  1.409708  1.380003  1.522692  1.153093             1  \n",
       "4  1.115596  0.646691  1.463812  1.419167             1  \n",
       "5  1.279538  1.280677  0.510350  1.528044             0  \n",
       "6  0.910805  0.755305  1.111800  1.110842             0  \n",
       "7  1.146536  1.341886  1.225324  1.425784             0  \n",
       "8  0.880300  1.312951  1.118165  1.225922             0  \n",
       "9  1.205231  0.596858  1.542580  0.981879             1  "
      ]
     },
     "execution_count": 2,
     "metadata": {},
     "output_type": "execute_result"
    }
   ],
   "source": [
    "df = pd.read_csv('Classified')\n",
    "df.head(n=10)"
   ]
  },
  {
   "cell_type": "code",
   "execution_count": 3,
   "id": "parallel-crown",
   "metadata": {},
   "outputs": [
    {
     "data": {
      "text/html": [
       "<div>\n",
       "<style scoped>\n",
       "    .dataframe tbody tr th:only-of-type {\n",
       "        vertical-align: middle;\n",
       "    }\n",
       "\n",
       "    .dataframe tbody tr th {\n",
       "        vertical-align: top;\n",
       "    }\n",
       "\n",
       "    .dataframe thead th {\n",
       "        text-align: right;\n",
       "    }\n",
       "</style>\n",
       "<table border=\"1\" class=\"dataframe\">\n",
       "  <thead>\n",
       "    <tr style=\"text-align: right;\">\n",
       "      <th></th>\n",
       "      <th>Unnamed: 0</th>\n",
       "      <th>WTT</th>\n",
       "      <th>PTI</th>\n",
       "      <th>EQW</th>\n",
       "      <th>SBI</th>\n",
       "      <th>LQE</th>\n",
       "      <th>QWG</th>\n",
       "      <th>FDJ</th>\n",
       "      <th>PJF</th>\n",
       "      <th>HQE</th>\n",
       "      <th>NXJ</th>\n",
       "      <th>TARGET CLASS</th>\n",
       "    </tr>\n",
       "  </thead>\n",
       "  <tbody>\n",
       "    <tr>\n",
       "      <th>990</th>\n",
       "      <td>990</td>\n",
       "      <td>0.876112</td>\n",
       "      <td>0.942414</td>\n",
       "      <td>1.060605</td>\n",
       "      <td>1.478041</td>\n",
       "      <td>0.818773</td>\n",
       "      <td>1.473635</td>\n",
       "      <td>1.306364</td>\n",
       "      <td>1.297386</td>\n",
       "      <td>0.522877</td>\n",
       "      <td>1.286394</td>\n",
       "      <td>0</td>\n",
       "    </tr>\n",
       "    <tr>\n",
       "      <th>991</th>\n",
       "      <td>991</td>\n",
       "      <td>1.102612</td>\n",
       "      <td>1.007163</td>\n",
       "      <td>0.535051</td>\n",
       "      <td>0.633220</td>\n",
       "      <td>0.736791</td>\n",
       "      <td>0.864663</td>\n",
       "      <td>1.080128</td>\n",
       "      <td>1.230731</td>\n",
       "      <td>1.180497</td>\n",
       "      <td>1.677409</td>\n",
       "      <td>1</td>\n",
       "    </tr>\n",
       "    <tr>\n",
       "      <th>992</th>\n",
       "      <td>992</td>\n",
       "      <td>0.809627</td>\n",
       "      <td>1.602700</td>\n",
       "      <td>0.990945</td>\n",
       "      <td>0.649933</td>\n",
       "      <td>1.118883</td>\n",
       "      <td>0.899837</td>\n",
       "      <td>0.919117</td>\n",
       "      <td>1.608892</td>\n",
       "      <td>0.978616</td>\n",
       "      <td>1.275621</td>\n",
       "      <td>0</td>\n",
       "    </tr>\n",
       "    <tr>\n",
       "      <th>993</th>\n",
       "      <td>993</td>\n",
       "      <td>0.733687</td>\n",
       "      <td>1.049636</td>\n",
       "      <td>0.729194</td>\n",
       "      <td>0.851512</td>\n",
       "      <td>1.552015</td>\n",
       "      <td>0.954450</td>\n",
       "      <td>0.469426</td>\n",
       "      <td>0.862135</td>\n",
       "      <td>1.464802</td>\n",
       "      <td>1.088759</td>\n",
       "      <td>1</td>\n",
       "    </tr>\n",
       "    <tr>\n",
       "      <th>994</th>\n",
       "      <td>994</td>\n",
       "      <td>1.212650</td>\n",
       "      <td>0.839062</td>\n",
       "      <td>0.456012</td>\n",
       "      <td>0.773420</td>\n",
       "      <td>1.091210</td>\n",
       "      <td>0.794378</td>\n",
       "      <td>0.736621</td>\n",
       "      <td>1.162377</td>\n",
       "      <td>1.512756</td>\n",
       "      <td>1.415168</td>\n",
       "      <td>1</td>\n",
       "    </tr>\n",
       "    <tr>\n",
       "      <th>995</th>\n",
       "      <td>995</td>\n",
       "      <td>1.010953</td>\n",
       "      <td>1.034006</td>\n",
       "      <td>0.853116</td>\n",
       "      <td>0.622460</td>\n",
       "      <td>1.036610</td>\n",
       "      <td>0.586240</td>\n",
       "      <td>0.746811</td>\n",
       "      <td>0.319752</td>\n",
       "      <td>1.117340</td>\n",
       "      <td>1.348517</td>\n",
       "      <td>1</td>\n",
       "    </tr>\n",
       "    <tr>\n",
       "      <th>996</th>\n",
       "      <td>996</td>\n",
       "      <td>0.575529</td>\n",
       "      <td>0.955786</td>\n",
       "      <td>0.941835</td>\n",
       "      <td>0.792882</td>\n",
       "      <td>1.414277</td>\n",
       "      <td>1.269540</td>\n",
       "      <td>1.055928</td>\n",
       "      <td>0.713193</td>\n",
       "      <td>0.958684</td>\n",
       "      <td>1.663489</td>\n",
       "      <td>0</td>\n",
       "    </tr>\n",
       "    <tr>\n",
       "      <th>997</th>\n",
       "      <td>997</td>\n",
       "      <td>1.135470</td>\n",
       "      <td>0.982462</td>\n",
       "      <td>0.781905</td>\n",
       "      <td>0.916738</td>\n",
       "      <td>0.901031</td>\n",
       "      <td>0.884738</td>\n",
       "      <td>0.386802</td>\n",
       "      <td>0.389584</td>\n",
       "      <td>0.919191</td>\n",
       "      <td>1.385504</td>\n",
       "      <td>1</td>\n",
       "    </tr>\n",
       "    <tr>\n",
       "      <th>998</th>\n",
       "      <td>998</td>\n",
       "      <td>1.084894</td>\n",
       "      <td>0.861769</td>\n",
       "      <td>0.407158</td>\n",
       "      <td>0.665696</td>\n",
       "      <td>1.608612</td>\n",
       "      <td>0.943859</td>\n",
       "      <td>0.855806</td>\n",
       "      <td>1.061338</td>\n",
       "      <td>1.277456</td>\n",
       "      <td>1.188063</td>\n",
       "      <td>1</td>\n",
       "    </tr>\n",
       "    <tr>\n",
       "      <th>999</th>\n",
       "      <td>999</td>\n",
       "      <td>0.837460</td>\n",
       "      <td>0.961184</td>\n",
       "      <td>0.417006</td>\n",
       "      <td>0.799784</td>\n",
       "      <td>0.934399</td>\n",
       "      <td>0.424762</td>\n",
       "      <td>0.778234</td>\n",
       "      <td>0.907962</td>\n",
       "      <td>1.257190</td>\n",
       "      <td>1.364837</td>\n",
       "      <td>1</td>\n",
       "    </tr>\n",
       "  </tbody>\n",
       "</table>\n",
       "</div>"
      ],
      "text/plain": [
       "     Unnamed: 0       WTT       PTI       EQW       SBI       LQE       QWG  \\\n",
       "990         990  0.876112  0.942414  1.060605  1.478041  0.818773  1.473635   \n",
       "991         991  1.102612  1.007163  0.535051  0.633220  0.736791  0.864663   \n",
       "992         992  0.809627  1.602700  0.990945  0.649933  1.118883  0.899837   \n",
       "993         993  0.733687  1.049636  0.729194  0.851512  1.552015  0.954450   \n",
       "994         994  1.212650  0.839062  0.456012  0.773420  1.091210  0.794378   \n",
       "995         995  1.010953  1.034006  0.853116  0.622460  1.036610  0.586240   \n",
       "996         996  0.575529  0.955786  0.941835  0.792882  1.414277  1.269540   \n",
       "997         997  1.135470  0.982462  0.781905  0.916738  0.901031  0.884738   \n",
       "998         998  1.084894  0.861769  0.407158  0.665696  1.608612  0.943859   \n",
       "999         999  0.837460  0.961184  0.417006  0.799784  0.934399  0.424762   \n",
       "\n",
       "          FDJ       PJF       HQE       NXJ  TARGET CLASS  \n",
       "990  1.306364  1.297386  0.522877  1.286394             0  \n",
       "991  1.080128  1.230731  1.180497  1.677409             1  \n",
       "992  0.919117  1.608892  0.978616  1.275621             0  \n",
       "993  0.469426  0.862135  1.464802  1.088759             1  \n",
       "994  0.736621  1.162377  1.512756  1.415168             1  \n",
       "995  0.746811  0.319752  1.117340  1.348517             1  \n",
       "996  1.055928  0.713193  0.958684  1.663489             0  \n",
       "997  0.386802  0.389584  0.919191  1.385504             1  \n",
       "998  0.855806  1.061338  1.277456  1.188063             1  \n",
       "999  0.778234  0.907962  1.257190  1.364837             1  "
      ]
     },
     "execution_count": 3,
     "metadata": {},
     "output_type": "execute_result"
    }
   ],
   "source": [
    "df.tail(n=10)"
   ]
  },
  {
   "cell_type": "code",
   "execution_count": 4,
   "id": "narrow-gibson",
   "metadata": {},
   "outputs": [],
   "source": [
    "X=df.drop('TARGET CLASS',axis=1)\n",
    "y=df['TARGET CLASS']\n",
    "X_train,X_test,y_train,y_test=train_test_split(X,y,test_size=0.2,random_state=0)"
   ]
  },
  {
   "cell_type": "code",
   "execution_count": 5,
   "id": "legendary-riding",
   "metadata": {},
   "outputs": [
    {
     "data": {
      "text/plain": [
       "KNeighborsClassifier()"
      ]
     },
     "execution_count": 5,
     "metadata": {},
     "output_type": "execute_result"
    }
   ],
   "source": [
    "knn=KNeighborsClassifier()\n",
    "knn.fit(X_train,y_train)"
   ]
  },
  {
   "cell_type": "code",
   "execution_count": 6,
   "id": "electronic-weather",
   "metadata": {},
   "outputs": [
    {
     "data": {
      "text/plain": [
       "0.565"
      ]
     },
     "execution_count": 6,
     "metadata": {},
     "output_type": "execute_result"
    }
   ],
   "source": [
    "knn.score(X_test,y_test)"
   ]
  },
  {
   "cell_type": "markdown",
   "id": "spoken-eight",
   "metadata": {},
   "source": [
    "We completed our third algorithm today. <br>\n",
    "Keep practising, download the datasets from kaggle and get started! <br>\n",
    "In the next repository we will be starting with the K Means Clustering"
   ]
  }
 ],
 "metadata": {
  "kernelspec": {
   "display_name": "Python 3",
   "language": "python",
   "name": "python3"
  },
  "language_info": {
   "codemirror_mode": {
    "name": "ipython",
    "version": 3
   },
   "file_extension": ".py",
   "mimetype": "text/x-python",
   "name": "python",
   "nbconvert_exporter": "python",
   "pygments_lexer": "ipython3",
   "version": "3.9.6"
  }
 },
 "nbformat": 4,
 "nbformat_minor": 5
}
