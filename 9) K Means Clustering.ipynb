{
 "cells": [
  {
   "cell_type": "markdown",
   "id": "stopped-cable",
   "metadata": {},
   "source": [
    "<b><center>K Means Clustering</b></center>"
   ]
  },
  {
   "cell_type": "markdown",
   "id": "material-cycle",
   "metadata": {},
   "source": [
    "First of all let's understand what do you mean by <b>Clustering?</b>"
   ]
  },
  {
   "cell_type": "markdown",
   "id": "adult-madonna",
   "metadata": {},
   "source": [
    "Clustering is the process of dividing the data space or data points into a number of groups, such that data points in the same groups are more similar to other data points in the same group, and dissimilar to the data points in other groups."
   ]
  },
  {
   "cell_type": "markdown",
   "id": "statistical-september",
   "metadata": {},
   "source": [
    "The major objective of clustering is to find patterns (i.e. similarities within data points) in an unlabeled dataset and cluster them together. But how do we decide what constitutes a good clustering? There isn’t a definitive best way of clustering, which would be independent of the final aim of the clustering. The end results usually depends on users and the parameters they select, focusing on the most important features used for clustering."
   ]
  },
  {
   "cell_type": "markdown",
   "id": "acute-desire",
   "metadata": {},
   "source": [
    "Now let's see the examples of clustering algorithms in action."
   ]
  },
  {
   "cell_type": "markdown",
   "id": "handmade-optimization",
   "metadata": {},
   "source": [
    "<b> Identifying Fake News </b>"
   ]
  },
  {
   "cell_type": "markdown",
   "id": "executed-ancient",
   "metadata": {},
   "source": [
    "In a paper recently published by two computer science students at the University of California, Riverside, they are using clustering algorithms to identify fake news based on the content. <br>\n",
    " \n",
    "The way that the algorithm works is by taking in the content of the fake news article, the corpus, examining the words used and then clustering them. These clusters are what helps the algorithm determine which pieces are genuine and which are fake news. Certain words are found more commonly in sensationalized, click-bait articles. When you see a high percentage of specific terms in an article, it gives a higher probability of the material being fake news. "
   ]
  },
  {
   "cell_type": "markdown",
   "id": "united-sampling",
   "metadata": {},
   "source": [
    "<b> Spam filter </b>"
   ]
  },
  {
   "cell_type": "markdown",
   "id": "graduate-mississippi",
   "metadata": {},
   "source": [
    "Ofcourse you have heard about the spam mails.  Spam emails are at best an annoying part of modern day marketing techniques, and at worst, an example of people phishing for your personal data. To avoid getting these emails in your main inbox, email companies use algorithms. The purpose of these algorithms is to flag an email as spam correctly or not. <br>\n",
    "\n",
    "How clustering works: K-Means clustering techniques have proven to be an effective way of identifying spam. The way that it works is by looking at the different sections of the email (header, sender, and content). The data is then grouped together. \n",
    "These groups can then be classified to identify which are spam. Including clustering in the classification process improves the accuracy of the filter to 97%. This is excellent news for people who want to be sure they’re not missing out on your favorite newsletters and offers."
   ]
  },
  {
   "cell_type": "markdown",
   "id": "composed-dodge",
   "metadata": {},
   "source": [
    "<b>Marketing and Sales </b>"
   ]
  },
  {
   "cell_type": "markdown",
   "id": "attended-sleeping",
   "metadata": {},
   "source": [
    "Personalization and targeting in marketing is big business. <br>\n",
    "If you are a business trying to get the best return on your marketing investment, it is crucial that you target people in the right way. If you get it wrong, you risk not making any sales, or worse, damaging your Customer trust. Clustering algorithms are able to group together people with similar traits and likelihood to purchase. Once you have the groups, you can run tests on each group with different marketing copy that will help you better target your messaging to them in the future."
   ]
  },
  {
   "cell_type": "markdown",
   "id": "diverse-explanation",
   "metadata": {},
   "source": [
    "<b>Sports</b>"
   ]
  },
  {
   "cell_type": "markdown",
   "id": "engaged-matter",
   "metadata": {},
   "source": [
    "Have you ever wondered who should you have in your team? Which players are going to perform best for your team and allow you to beat the competition? The challenge at the start of the season is that there is very little if any data available to help you identify the winning players. <br>\n",
    "When there is little performance data available to train your model on, you have an advantage for unsupervised learning. In this type of machine learning problem, you can find similar players using some of their characteristics. This has been done using K-Means clustering. Ultimately this means you can get a better team more quickly at the start of the year, giving you an advantage."
   ]
  },
  {
   "cell_type": "markdown",
   "id": "threaded-french",
   "metadata": {},
   "source": [
    "<b>Identifying fraudulent or criminal activity </b>"
   ]
  },
  {
   "cell_type": "markdown",
   "id": "sacred-throat",
   "metadata": {},
   "source": [
    "In this scenario, we are going to focus on fraudulent taxi driver behavior. However, the technique has been used in multiple scenarios. <br>\n",
    "You need to look into fraudulent driving activity. The challenge is how do you identify what is true and which is false? <br>\n",
    "By analysing the GPS logs, the algorithm is able to group similar behaviors. Based on the characteristics of the groups you are then able to classify them into those that are real and which are fraudulent."
   ]
  },
  {
   "cell_type": "markdown",
   "id": "dedicated-ideal",
   "metadata": {},
   "source": [
    "<img src=\"https://editor.analyticsvidhya.com/uploads/56854k%20means%20clustering.png\"></img>"
   ]
  },
  {
   "cell_type": "markdown",
   "id": "divine-zealand",
   "metadata": {},
   "source": [
    "Now you must have idea regarding this algorithm. Now let's discuss this algorithm in more details."
   ]
  },
  {
   "cell_type": "markdown",
   "id": "rising-warning",
   "metadata": {},
   "source": [
    "K Means Clustering is an unsupervised machine learning. This algorithm finds the similarity between the points and try to put them into clusters."
   ]
  },
  {
   "cell_type": "markdown",
   "id": "coral-recipe",
   "metadata": {},
   "source": [
    "<b>Steps to this algorithm :</b>"
   ]
  },
  {
   "cell_type": "markdown",
   "id": "informed-compromise",
   "metadata": {},
   "source": [
    "- Step 1 - We select the value of k(which we call it as centroids, we generally do it by Elbow Method)"
   ]
  },
  {
   "cell_type": "markdown",
   "id": "composed-entity",
   "metadata": {},
   "source": [
    "<img src=\"https://static.javatpoint.com/tutorial/machine-learning/images/k-means-clustering-algorithm-in-machine-learning2.png\"></img>"
   ]
  },
  {
   "cell_type": "markdown",
   "id": "exciting-country",
   "metadata": {},
   "source": [
    "- Step 2 - We initialise these centroids randomly in the plane."
   ]
  },
  {
   "cell_type": "markdown",
   "id": "tired-growth",
   "metadata": {},
   "source": [
    "<img src=\"https://static.javatpoint.com/tutorial/machine-learning/images/k-means-clustering-algorithm-in-machine-learning3.png\"></img>"
   ]
  },
  {
   "cell_type": "markdown",
   "id": "respective-pittsburgh",
   "metadata": {},
   "source": [
    "- Step 3 - Now we will assign each data point to its closest K-point or centroid. We will compute it by using distance formula, either Euclidean or Manhattan. And, we will draw a median between both the centroids."
   ]
  },
  {
   "cell_type": "markdown",
   "id": "emerging-graduate",
   "metadata": {},
   "source": [
    "<img src=\"https://static.javatpoint.com/tutorial/machine-learning/images/k-means-clustering-algorithm-in-machine-learning4.png\"></img>"
   ]
  },
  {
   "cell_type": "markdown",
   "id": "australian-cisco",
   "metadata": {},
   "source": [
    "From the above image, it is clear that points left side of the line is near to the blue centroid, and points to the right of the line are close to the orange centroid. Let's color them as blue and orange for clear visualization."
   ]
  },
  {
   "cell_type": "markdown",
   "id": "dental-evaluation",
   "metadata": {},
   "source": [
    "<img src=\"https://static.javatpoint.com/tutorial/machine-learning/images/k-means-clustering-algorithm-in-machine-learning5.png\"></img>"
   ]
  },
  {
   "cell_type": "markdown",
   "id": "banned-violin",
   "metadata": {},
   "source": [
    "- Step 4 - As we need to find the closest cluster, so we will repeat the process by choosing a new centroid. To choose the new centroids, we will compute the mean of the data points."
   ]
  },
  {
   "cell_type": "markdown",
   "id": "searching-country",
   "metadata": {},
   "source": [
    "<img src=\"https://static.javatpoint.com/tutorial/machine-learning/images/k-means-clustering-algorithm-in-machine-learning6.png\"></img>"
   ]
  },
  {
   "cell_type": "markdown",
   "id": "abroad-stockholm",
   "metadata": {},
   "source": [
    "- Step 5 - Next, we will reassign each datapoint to the new centroid. For this, we will repeat the same process of finding a median line. "
   ]
  },
  {
   "cell_type": "markdown",
   "id": "exclusive-swaziland",
   "metadata": {},
   "source": [
    "<img src=\"https://static.javatpoint.com/tutorial/machine-learning/images/k-means-clustering-algorithm-in-machine-learning7.png\"></img>"
   ]
  },
  {
   "cell_type": "markdown",
   "id": "diverse-azerbaijan",
   "metadata": {},
   "source": [
    "From the above image, we can see, one yellow point is on the left side of the line, and two blue points are right to the line. So, these three points will be assigned to new centroids."
   ]
  },
  {
   "cell_type": "markdown",
   "id": "cultural-carnival",
   "metadata": {},
   "source": [
    "As reassignment has taken place, so we will again go to finding new centroids and then drawing the median line to see the clusters <br>\n",
    "\n",
    "We will repeat the process by finding the mean of the centroids, so the new centroids will be as shown in the below image:"
   ]
  },
  {
   "cell_type": "markdown",
   "id": "existing-uncle",
   "metadata": {},
   "source": [
    "<img src=\"https://static.javatpoint.com/tutorial/machine-learning/images/k-means-clustering-algorithm-in-machine-learning9.png\"></img>"
   ]
  },
  {
   "cell_type": "markdown",
   "id": "brief-stations",
   "metadata": {},
   "source": [
    "<img src=\"https://static.javatpoint.com/tutorial/machine-learning/images/k-means-clustering-algorithm-in-machine-learning10.png\"></img>"
   ]
  },
  {
   "cell_type": "markdown",
   "id": "digital-watch",
   "metadata": {},
   "source": [
    "We will keep repeating the steps untill we get the fixed number of clusters and there is no movement of the centroid point. When we'll reach that point we'll get our final model."
   ]
  },
  {
   "cell_type": "markdown",
   "id": "marked-footage",
   "metadata": {},
   "source": [
    "<img src=\"https://static.javatpoint.com/tutorial/machine-learning/images/k-means-clustering-algorithm-in-machine-learning11.png\"></img>"
   ]
  },
  {
   "cell_type": "markdown",
   "id": "middle-recall",
   "metadata": {},
   "source": [
    "- Step 6 - Lastly, after getting the clusters we will remove our centroids."
   ]
  },
  {
   "cell_type": "markdown",
   "id": "complicated-breed",
   "metadata": {},
   "source": [
    "<img src=\"https://static.javatpoint.com/tutorial/machine-learning/images/k-means-clustering-algorithm-in-machine-learning12.png\"></img>"
   ]
  },
  {
   "cell_type": "markdown",
   "id": "competitive-blanket",
   "metadata": {},
   "source": [
    "<b>How do we determine the value of k in K Means Clustering?</b>"
   ]
  },
  {
   "cell_type": "markdown",
   "id": "working-vacuum",
   "metadata": {},
   "source": [
    "The performance of the K-means clustering algorithm depends upon highly efficient clusters that it forms. But choosing the optimal number of clusters is a big task. There are some different ways to find the optimal number of clusters, but here we are discussing the most appropriate method to find the number of clusters or value of K, which is Elbow Method\n",
    "\n"
   ]
  },
  {
   "cell_type": "markdown",
   "id": "stock-listening",
   "metadata": {},
   "source": [
    "The Elbow method is one of the most popular ways to find the optimal number of clusters. This method uses the concept of WCSS value. WCSS stands for Within Cluster Sum of Squares, which defines the total variations within a cluster. "
   ]
  },
  {
   "cell_type": "markdown",
   "id": "constitutional-joseph",
   "metadata": {},
   "source": [
    "<img src=\"https://www.analyticsindiamag.com/wp-content/uploads/2019/08/4_wcss.png\"></img>"
   ]
  },
  {
   "cell_type": "markdown",
   "id": "marked-mailman",
   "metadata": {},
   "source": [
    "In the above formula of WCSS,<br>\n",
    "The Cluster distance(Pi C1)^2 is the sum of the square of the distances between each data point and its centroid within a particular cluster. <br>\n",
    "\n",
    "To measure the distance between data points and centroid, we can use any method such as Euclidean distance or Manhattan distance. <br>\n",
    "\n",
    "To find the optimal value of clusters, the elbow method follows the below steps: <br>\n",
    "\n",
    "- It executes the K-means clustering on a given dataset for different K values (ranges from 1-10).\n",
    "- For each value of K, calculates the WCSS value.\n",
    "- Plots a curve between calculated WCSS values and the number of clusters K.\n",
    "- The sharp point of bend or a point of the plot looks like an arm, then that point is considered as the best value of K. <br>\n",
    "Since the graph shows the sharp bend, which looks like an elbow, hence it is known as the elbow method. The graph for the elbow method looks like the below image:"
   ]
  },
  {
   "cell_type": "markdown",
   "id": "built-inspection",
   "metadata": {},
   "source": [
    "<img src=\"https://miro.medium.com/max/1378/1*6AJ0qOCplz_RIj61M5MToQ.png\"></img>"
   ]
  },
  {
   "cell_type": "code",
   "execution_count": 1,
   "id": "elder-directory",
   "metadata": {},
   "outputs": [],
   "source": [
    "import pandas as pd\n",
    "import numpy as np\n",
    "import matplotlib.pyplot as plt\n",
    "import seaborn as sns\n",
    "from sklearn.model_selection import train_test_split\n",
    "from sklearn.metrics import accuracy_score\n",
    "from sklearn.cluster import KMeans\n",
    "\n",
    "import warnings\n",
    "warnings.filterwarnings(\"ignore\")"
   ]
  },
  {
   "cell_type": "code",
   "execution_count": 2,
   "id": "traditional-concept",
   "metadata": {},
   "outputs": [
    {
     "data": {
      "text/html": [
       "<div>\n",
       "<style scoped>\n",
       "    .dataframe tbody tr th:only-of-type {\n",
       "        vertical-align: middle;\n",
       "    }\n",
       "\n",
       "    .dataframe tbody tr th {\n",
       "        vertical-align: top;\n",
       "    }\n",
       "\n",
       "    .dataframe thead th {\n",
       "        text-align: right;\n",
       "    }\n",
       "</style>\n",
       "<table border=\"1\" class=\"dataframe\">\n",
       "  <thead>\n",
       "    <tr style=\"text-align: right;\">\n",
       "      <th></th>\n",
       "      <th>CustomerID</th>\n",
       "      <th>Gender</th>\n",
       "      <th>Age</th>\n",
       "      <th>Annual Income</th>\n",
       "      <th>Spending Score</th>\n",
       "    </tr>\n",
       "  </thead>\n",
       "  <tbody>\n",
       "    <tr>\n",
       "      <th>0</th>\n",
       "      <td>2</td>\n",
       "      <td>Male</td>\n",
       "      <td>21</td>\n",
       "      <td>15</td>\n",
       "      <td>81</td>\n",
       "    </tr>\n",
       "    <tr>\n",
       "      <th>1</th>\n",
       "      <td>3</td>\n",
       "      <td>Female</td>\n",
       "      <td>20</td>\n",
       "      <td>16</td>\n",
       "      <td>6</td>\n",
       "    </tr>\n",
       "    <tr>\n",
       "      <th>2</th>\n",
       "      <td>4</td>\n",
       "      <td>Female</td>\n",
       "      <td>23</td>\n",
       "      <td>16</td>\n",
       "      <td>77</td>\n",
       "    </tr>\n",
       "    <tr>\n",
       "      <th>3</th>\n",
       "      <td>5</td>\n",
       "      <td>Female</td>\n",
       "      <td>31</td>\n",
       "      <td>17</td>\n",
       "      <td>40</td>\n",
       "    </tr>\n",
       "    <tr>\n",
       "      <th>4</th>\n",
       "      <td>6</td>\n",
       "      <td>Female</td>\n",
       "      <td>22</td>\n",
       "      <td>17</td>\n",
       "      <td>76</td>\n",
       "    </tr>\n",
       "    <tr>\n",
       "      <th>5</th>\n",
       "      <td>7</td>\n",
       "      <td>Female</td>\n",
       "      <td>35</td>\n",
       "      <td>18</td>\n",
       "      <td>6</td>\n",
       "    </tr>\n",
       "    <tr>\n",
       "      <th>6</th>\n",
       "      <td>8</td>\n",
       "      <td>Female</td>\n",
       "      <td>23</td>\n",
       "      <td>18</td>\n",
       "      <td>94</td>\n",
       "    </tr>\n",
       "    <tr>\n",
       "      <th>7</th>\n",
       "      <td>9</td>\n",
       "      <td>Male</td>\n",
       "      <td>64</td>\n",
       "      <td>19</td>\n",
       "      <td>3</td>\n",
       "    </tr>\n",
       "    <tr>\n",
       "      <th>8</th>\n",
       "      <td>10</td>\n",
       "      <td>Female</td>\n",
       "      <td>30</td>\n",
       "      <td>19</td>\n",
       "      <td>72</td>\n",
       "    </tr>\n",
       "    <tr>\n",
       "      <th>9</th>\n",
       "      <td>11</td>\n",
       "      <td>Male</td>\n",
       "      <td>67</td>\n",
       "      <td>19</td>\n",
       "      <td>14</td>\n",
       "    </tr>\n",
       "  </tbody>\n",
       "</table>\n",
       "</div>"
      ],
      "text/plain": [
       "   CustomerID  Gender  Age  Annual Income  Spending Score\n",
       "0           2    Male   21             15              81\n",
       "1           3  Female   20             16               6\n",
       "2           4  Female   23             16              77\n",
       "3           5  Female   31             17              40\n",
       "4           6  Female   22             17              76\n",
       "5           7  Female   35             18               6\n",
       "6           8  Female   23             18              94\n",
       "7           9    Male   64             19               3\n",
       "8          10  Female   30             19              72\n",
       "9          11    Male   67             19              14"
      ]
     },
     "execution_count": 2,
     "metadata": {},
     "output_type": "execute_result"
    }
   ],
   "source": [
    "col = ['CustomerID','Gender','Age','Annual Income','Spending Score']\n",
    "df = pd.read_csv(\"Customers.csv\", names = col, header = 1) \n",
    "df.head(n =10) "
   ]
  },
  {
   "cell_type": "code",
   "execution_count": 3,
   "id": "bearing-principle",
   "metadata": {},
   "outputs": [
    {
     "data": {
      "text/html": [
       "<div>\n",
       "<style scoped>\n",
       "    .dataframe tbody tr th:only-of-type {\n",
       "        vertical-align: middle;\n",
       "    }\n",
       "\n",
       "    .dataframe tbody tr th {\n",
       "        vertical-align: top;\n",
       "    }\n",
       "\n",
       "    .dataframe thead th {\n",
       "        text-align: right;\n",
       "    }\n",
       "</style>\n",
       "<table border=\"1\" class=\"dataframe\">\n",
       "  <thead>\n",
       "    <tr style=\"text-align: right;\">\n",
       "      <th></th>\n",
       "      <th>CustomerID</th>\n",
       "      <th>Age</th>\n",
       "      <th>Annual Income</th>\n",
       "      <th>Spending Score</th>\n",
       "    </tr>\n",
       "  </thead>\n",
       "  <tbody>\n",
       "    <tr>\n",
       "      <th>count</th>\n",
       "      <td>199.000000</td>\n",
       "      <td>199.000000</td>\n",
       "      <td>199.000000</td>\n",
       "      <td>199.000000</td>\n",
       "    </tr>\n",
       "    <tr>\n",
       "      <th>mean</th>\n",
       "      <td>101.000000</td>\n",
       "      <td>38.949749</td>\n",
       "      <td>60.788945</td>\n",
       "      <td>50.256281</td>\n",
       "    </tr>\n",
       "    <tr>\n",
       "      <th>std</th>\n",
       "      <td>57.590508</td>\n",
       "      <td>13.932648</td>\n",
       "      <td>26.130127</td>\n",
       "      <td>25.876350</td>\n",
       "    </tr>\n",
       "    <tr>\n",
       "      <th>min</th>\n",
       "      <td>2.000000</td>\n",
       "      <td>18.000000</td>\n",
       "      <td>15.000000</td>\n",
       "      <td>1.000000</td>\n",
       "    </tr>\n",
       "    <tr>\n",
       "      <th>25%</th>\n",
       "      <td>51.500000</td>\n",
       "      <td>29.000000</td>\n",
       "      <td>42.000000</td>\n",
       "      <td>34.500000</td>\n",
       "    </tr>\n",
       "    <tr>\n",
       "      <th>50%</th>\n",
       "      <td>101.000000</td>\n",
       "      <td>36.000000</td>\n",
       "      <td>62.000000</td>\n",
       "      <td>50.000000</td>\n",
       "    </tr>\n",
       "    <tr>\n",
       "      <th>75%</th>\n",
       "      <td>150.500000</td>\n",
       "      <td>49.000000</td>\n",
       "      <td>78.000000</td>\n",
       "      <td>73.000000</td>\n",
       "    </tr>\n",
       "    <tr>\n",
       "      <th>max</th>\n",
       "      <td>200.000000</td>\n",
       "      <td>70.000000</td>\n",
       "      <td>137.000000</td>\n",
       "      <td>99.000000</td>\n",
       "    </tr>\n",
       "  </tbody>\n",
       "</table>\n",
       "</div>"
      ],
      "text/plain": [
       "       CustomerID         Age  Annual Income  Spending Score\n",
       "count  199.000000  199.000000     199.000000      199.000000\n",
       "mean   101.000000   38.949749      60.788945       50.256281\n",
       "std     57.590508   13.932648      26.130127       25.876350\n",
       "min      2.000000   18.000000      15.000000        1.000000\n",
       "25%     51.500000   29.000000      42.000000       34.500000\n",
       "50%    101.000000   36.000000      62.000000       50.000000\n",
       "75%    150.500000   49.000000      78.000000       73.000000\n",
       "max    200.000000   70.000000     137.000000       99.000000"
      ]
     },
     "execution_count": 3,
     "metadata": {},
     "output_type": "execute_result"
    }
   ],
   "source": [
    "df.describe()"
   ]
  },
  {
   "cell_type": "code",
   "execution_count": 4,
   "id": "floppy-aluminum",
   "metadata": {},
   "outputs": [],
   "source": [
    "from sklearn.preprocessing import LabelEncoder\n",
    "l = LabelEncoder()"
   ]
  },
  {
   "cell_type": "code",
   "execution_count": 5,
   "id": "minute-jewelry",
   "metadata": {},
   "outputs": [],
   "source": [
    "df.Gender = l.fit_transform(df.Gender)\n",
    "df.drop('CustomerID',axis=1,inplace = True)"
   ]
  },
  {
   "cell_type": "code",
   "execution_count": 6,
   "id": "disciplinary-version",
   "metadata": {},
   "outputs": [
    {
     "data": {
      "text/html": [
       "<div>\n",
       "<style scoped>\n",
       "    .dataframe tbody tr th:only-of-type {\n",
       "        vertical-align: middle;\n",
       "    }\n",
       "\n",
       "    .dataframe tbody tr th {\n",
       "        vertical-align: top;\n",
       "    }\n",
       "\n",
       "    .dataframe thead th {\n",
       "        text-align: right;\n",
       "    }\n",
       "</style>\n",
       "<table border=\"1\" class=\"dataframe\">\n",
       "  <thead>\n",
       "    <tr style=\"text-align: right;\">\n",
       "      <th></th>\n",
       "      <th>Gender</th>\n",
       "      <th>Age</th>\n",
       "      <th>Annual Income</th>\n",
       "      <th>Spending Score</th>\n",
       "    </tr>\n",
       "  </thead>\n",
       "  <tbody>\n",
       "    <tr>\n",
       "      <th>0</th>\n",
       "      <td>1</td>\n",
       "      <td>21</td>\n",
       "      <td>15</td>\n",
       "      <td>81</td>\n",
       "    </tr>\n",
       "    <tr>\n",
       "      <th>1</th>\n",
       "      <td>0</td>\n",
       "      <td>20</td>\n",
       "      <td>16</td>\n",
       "      <td>6</td>\n",
       "    </tr>\n",
       "    <tr>\n",
       "      <th>2</th>\n",
       "      <td>0</td>\n",
       "      <td>23</td>\n",
       "      <td>16</td>\n",
       "      <td>77</td>\n",
       "    </tr>\n",
       "    <tr>\n",
       "      <th>3</th>\n",
       "      <td>0</td>\n",
       "      <td>31</td>\n",
       "      <td>17</td>\n",
       "      <td>40</td>\n",
       "    </tr>\n",
       "    <tr>\n",
       "      <th>4</th>\n",
       "      <td>0</td>\n",
       "      <td>22</td>\n",
       "      <td>17</td>\n",
       "      <td>76</td>\n",
       "    </tr>\n",
       "    <tr>\n",
       "      <th>5</th>\n",
       "      <td>0</td>\n",
       "      <td>35</td>\n",
       "      <td>18</td>\n",
       "      <td>6</td>\n",
       "    </tr>\n",
       "    <tr>\n",
       "      <th>6</th>\n",
       "      <td>0</td>\n",
       "      <td>23</td>\n",
       "      <td>18</td>\n",
       "      <td>94</td>\n",
       "    </tr>\n",
       "    <tr>\n",
       "      <th>7</th>\n",
       "      <td>1</td>\n",
       "      <td>64</td>\n",
       "      <td>19</td>\n",
       "      <td>3</td>\n",
       "    </tr>\n",
       "    <tr>\n",
       "      <th>8</th>\n",
       "      <td>0</td>\n",
       "      <td>30</td>\n",
       "      <td>19</td>\n",
       "      <td>72</td>\n",
       "    </tr>\n",
       "    <tr>\n",
       "      <th>9</th>\n",
       "      <td>1</td>\n",
       "      <td>67</td>\n",
       "      <td>19</td>\n",
       "      <td>14</td>\n",
       "    </tr>\n",
       "  </tbody>\n",
       "</table>\n",
       "</div>"
      ],
      "text/plain": [
       "   Gender  Age  Annual Income  Spending Score\n",
       "0       1   21             15              81\n",
       "1       0   20             16               6\n",
       "2       0   23             16              77\n",
       "3       0   31             17              40\n",
       "4       0   22             17              76\n",
       "5       0   35             18               6\n",
       "6       0   23             18              94\n",
       "7       1   64             19               3\n",
       "8       0   30             19              72\n",
       "9       1   67             19              14"
      ]
     },
     "execution_count": 6,
     "metadata": {},
     "output_type": "execute_result"
    }
   ],
   "source": [
    "df.head(n=10)"
   ]
  },
  {
   "cell_type": "code",
   "execution_count": 7,
   "id": "junior-operations",
   "metadata": {},
   "outputs": [],
   "source": [
    "lst = []\n",
    "for i in range(1,11):\n",
    "    kmodel=KMeans(n_clusters=i,n_init=15,max_iter=500)\n",
    "    kmodel.fit(df)\n",
    "    lst.append(kmodel.inertia_)"
   ]
  },
  {
   "cell_type": "code",
   "execution_count": 8,
   "id": "median-glass",
   "metadata": {},
   "outputs": [
    {
     "data": {
      "text/plain": [
       "[306253.5276381909,\n",
       " 210121.46274509787,\n",
       " 141957.5607729918,\n",
       " 102892.08544197034,\n",
       " 74205.02845749311,\n",
       " 57178.158029981714,\n",
       " 50006.307758031435,\n",
       " 43196.43703863701,\n",
       " 39803.03246632996,\n",
       " 36498.97804115371]"
      ]
     },
     "execution_count": 8,
     "metadata": {},
     "output_type": "execute_result"
    }
   ],
   "source": [
    "lst"
   ]
  },
  {
   "cell_type": "code",
   "execution_count": 9,
   "id": "heavy-litigation",
   "metadata": {},
   "outputs": [
    {
     "data": {
      "image/png": "[encoded data removed]",
      "text/plain": [
       "<Figure size 432x288 with 1 Axes>"
      ]
     },
     "metadata": {
      "needs_background": "light"
     },
     "output_type": "display_data"
    }
   ],
   "source": [
    "plt.plot(range (1,11),lst,marker='o')\n",
    "plt.grid()"
   ]
  },
  {
   "cell_type": "markdown",
   "id": "pretty-porter",
   "metadata": {},
   "source": [
    "k = 6"
   ]
  },
  {
   "cell_type": "code",
   "execution_count": 10,
   "id": "cooked-trinity",
   "metadata": {},
   "outputs": [
    {
     "data": {
      "text/plain": [
       "KMeans(n_clusters=6)"
      ]
     },
     "execution_count": 10,
     "metadata": {},
     "output_type": "execute_result"
    }
   ],
   "source": [
    "kmodel=KMeans(n_clusters=6)\n",
    "kmodel.fit(df)"
   ]
  },
  {
   "cell_type": "code",
   "execution_count": 11,
   "id": "prerequisite-wyoming",
   "metadata": {},
   "outputs": [
    {
     "data": {
      "text/plain": [
       "array([[ 0.57142857, 41.68571429, 88.22857143, 17.28571429],\n",
       "       [ 0.46153846, 32.69230769, 86.53846154, 82.12820513],\n",
       "       [ 0.40909091, 25.27272727, 25.72727273, 79.36363636],\n",
       "       [ 0.44444444, 56.15555556, 53.37777778, 49.08888889],\n",
       "       [ 0.35      , 45.4       , 25.65      , 18.55      ],\n",
       "       [ 0.34210526, 27.        , 56.65789474, 49.13157895]])"
      ]
     },
     "execution_count": 11,
     "metadata": {},
     "output_type": "execute_result"
    }
   ],
   "source": [
    "pred=kmodel.predict(df)\n",
    "kmodel.cluster_centers_"
   ]
  },
  {
   "cell_type": "code",
   "execution_count": 12,
   "id": "closed-stream",
   "metadata": {},
   "outputs": [
    {
     "data": {
      "text/plain": [
       "6"
      ]
     },
     "execution_count": 12,
     "metadata": {},
     "output_type": "execute_result"
    }
   ],
   "source": [
    "len(kmodel.cluster_centers_)"
   ]
  },
  {
   "cell_type": "code",
   "execution_count": 13,
   "id": "pressing-cannon",
   "metadata": {},
   "outputs": [
    {
     "data": {
      "text/html": [
       "<div>\n",
       "<style scoped>\n",
       "    .dataframe tbody tr th:only-of-type {\n",
       "        vertical-align: middle;\n",
       "    }\n",
       "\n",
       "    .dataframe tbody tr th {\n",
       "        vertical-align: top;\n",
       "    }\n",
       "\n",
       "    .dataframe thead th {\n",
       "        text-align: right;\n",
       "    }\n",
       "</style>\n",
       "<table border=\"1\" class=\"dataframe\">\n",
       "  <thead>\n",
       "    <tr style=\"text-align: right;\">\n",
       "      <th></th>\n",
       "      <th>Gender</th>\n",
       "      <th>Age</th>\n",
       "      <th>Annual Income</th>\n",
       "      <th>Spending Score</th>\n",
       "      <th>clusters</th>\n",
       "    </tr>\n",
       "  </thead>\n",
       "  <tbody>\n",
       "    <tr>\n",
       "      <th>0</th>\n",
       "      <td>1</td>\n",
       "      <td>21</td>\n",
       "      <td>15</td>\n",
       "      <td>81</td>\n",
       "      <td>2</td>\n",
       "    </tr>\n",
       "    <tr>\n",
       "      <th>1</th>\n",
       "      <td>0</td>\n",
       "      <td>20</td>\n",
       "      <td>16</td>\n",
       "      <td>6</td>\n",
       "      <td>4</td>\n",
       "    </tr>\n",
       "    <tr>\n",
       "      <th>2</th>\n",
       "      <td>0</td>\n",
       "      <td>23</td>\n",
       "      <td>16</td>\n",
       "      <td>77</td>\n",
       "      <td>2</td>\n",
       "    </tr>\n",
       "    <tr>\n",
       "      <th>3</th>\n",
       "      <td>0</td>\n",
       "      <td>31</td>\n",
       "      <td>17</td>\n",
       "      <td>40</td>\n",
       "      <td>4</td>\n",
       "    </tr>\n",
       "    <tr>\n",
       "      <th>4</th>\n",
       "      <td>0</td>\n",
       "      <td>22</td>\n",
       "      <td>17</td>\n",
       "      <td>76</td>\n",
       "      <td>2</td>\n",
       "    </tr>\n",
       "  </tbody>\n",
       "</table>\n",
       "</div>"
      ],
      "text/plain": [
       "   Gender  Age  Annual Income  Spending Score  clusters\n",
       "0       1   21             15              81         2\n",
       "1       0   20             16               6         4\n",
       "2       0   23             16              77         2\n",
       "3       0   31             17              40         4\n",
       "4       0   22             17              76         2"
      ]
     },
     "execution_count": 13,
     "metadata": {},
     "output_type": "execute_result"
    }
   ],
   "source": [
    "df['clusters']=pred\n",
    "df.head()"
   ]
  },
  {
   "cell_type": "code",
   "execution_count": 14,
   "id": "bright-heart",
   "metadata": {},
   "outputs": [
    {
     "data": {
      "text/plain": [
       "<AxesSubplot:xlabel='Annual Income', ylabel='Spending Score'>"
      ]
     },
     "execution_count": 14,
     "metadata": {},
     "output_type": "execute_result"
    },
    {
     "data": {
      "image/png": "[encoded data removed]",
      "text/plain": [
       "<Figure size 432x288 with 1 Axes>"
      ]
     },
     "metadata": {
      "needs_background": "light"
     },
     "output_type": "display_data"
    }
   ],
   "source": [
    "color = np.array(['darkgray', 'lightsalmon', 'powderblue', 'red', 'yellow', 'black'])\n",
    "sns.scatterplot(x = df['Annual Income'], y = df['Spending Score'], c = color[kmodel.labels_], s = 50)"
   ]
  },
  {
   "cell_type": "markdown",
   "id": "accurate-cheese",
   "metadata": {},
   "source": [
    "From the above graph we can conclude a lot of interesting things such as :\n",
    "- Orange have high annual income and high Spending Score.\n",
    "- Yellow have low annual income and low Spending Score.\n",
    "- Grey have high annual income and low Spending Score.\n",
    "- Blue have low annual income and high Spending Score.\n",
    "- Black and Red have have same annual income and same Spending Score."
   ]
  }
 ],
 "metadata": {
  "kernelspec": {
   "display_name": "Python 3",
   "language": "python",
   "name": "python3"
  },
  "language_info": {
   "codemirror_mode": {
    "name": "ipython",
    "version": 3
   },
   "file_extension": ".py",
   "mimetype": "text/x-python",
   "name": "python",
   "nbconvert_exporter": "python",
   "pygments_lexer": "ipython3",
   "version": "3.9.6"
  }
 },
 "nbformat": 4,
 "nbformat_minor": 5
}
