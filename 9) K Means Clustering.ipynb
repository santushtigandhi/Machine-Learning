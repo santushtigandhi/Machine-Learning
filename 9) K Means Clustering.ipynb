{
 "cells": [
  {
   "cell_type": "markdown",
   "id": "acknowledged-instruction",
   "metadata": {},
   "source": [
    "<b><center>K Means Clustering</b></center>"
   ]
  },
  {
   "cell_type": "markdown",
   "id": "documented-flexibility",
   "metadata": {},
   "source": [
    "First of all let's understand what do you mean by <b>Clustering?</b>"
   ]
  },
  {
   "cell_type": "markdown",
   "id": "aggressive-marker",
   "metadata": {},
   "source": [
    "Clustering is the process of dividing the data space or data points into a number of groups, such that data points in the same groups are more similar to other data points in the same group, and dissimilar to the data points in other groups."
   ]
  },
  {
   "cell_type": "markdown",
   "id": "thrown-beijing",
   "metadata": {},
   "source": [
    "The major objective of clustering is to find patterns (i.e. similarities within data points) in an unlabeled dataset and cluster them together. But how do we decide what constitutes a good clustering? There isn’t a definitive best way of clustering, which would be independent of the final aim of the clustering. The end results usually depends on users and the parameters they select, focusing on the most important features used for clustering."
   ]
  },
  {
   "cell_type": "markdown",
   "id": "organized-agent",
   "metadata": {},
   "source": [
    "Now let's see the examples of clustering algorithms in action."
   ]
  },
  {
   "cell_type": "markdown",
   "id": "square-crawford",
   "metadata": {},
   "source": [
    "<b> Identifying Fake News </b>"
   ]
  },
  {
   "cell_type": "markdown",
   "id": "lined-behavior",
   "metadata": {},
   "source": [
    "In a paper recently published by two computer science students at the University of California, Riverside, they are using clustering algorithms to identify fake news based on the content. <br>\n",
    " \n",
    "The way that the algorithm works is by taking in the content of the fake news article, the corpus, examining the words used and then clustering them. These clusters are what helps the algorithm determine which pieces are genuine and which are fake news. Certain words are found more commonly in sensationalized, click-bait articles. When you see a high percentage of specific terms in an article, it gives a higher probability of the material being fake news. "
   ]
  },
  {
   "cell_type": "markdown",
   "id": "filled-horror",
   "metadata": {},
   "source": [
    "<b> Spam filter </b>"
   ]
  },
  {
   "cell_type": "markdown",
   "id": "comic-local",
   "metadata": {},
   "source": [
    "Ofcourse you have heard about the spam mails.  Spam emails are at best an annoying part of modern day marketing techniques, and at worst, an example of people phishing for your personal data. To avoid getting these emails in your main inbox, email companies use algorithms. The purpose of these algorithms is to flag an email as spam correctly or not. <br>\n",
    "\n",
    "How clustering works: K-Means clustering techniques have proven to be an effective way of identifying spam. The way that it works is by looking at the different sections of the email (header, sender, and content). The data is then grouped together. \n",
    "These groups can then be classified to identify which are spam. Including clustering in the classification process improves the accuracy of the filter to 97%. This is excellent news for people who want to be sure they’re not missing out on your favorite newsletters and offers."
   ]
  },
  {
   "cell_type": "markdown",
   "id": "african-storage",
   "metadata": {},
   "source": [
    "<b>Marketing and Sales </b>"
   ]
  },
  {
   "cell_type": "markdown",
   "id": "fiscal-eight",
   "metadata": {},
   "source": [
    "Personalization and targeting in marketing is big business. <br>\n",
    "If you are a business trying to get the best return on your marketing investment, it is crucial that you target people in the right way. If you get it wrong, you risk not making any sales, or worse, damaging your Customer trust. Clustering algorithms are able to group together people with similar traits and likelihood to purchase. Once you have the groups, you can run tests on each group with different marketing copy that will help you better target your messaging to them in the future."
   ]
  },
  {
   "cell_type": "markdown",
   "id": "introductory-serbia",
   "metadata": {},
   "source": [
    "<b>Sports</b>"
   ]
  },
  {
   "cell_type": "markdown",
   "id": "treated-pleasure",
   "metadata": {},
   "source": [
    "Have you ever wondered who should you have in your team? Which players are going to perform best for your team and allow you to beat the competition? The challenge at the start of the season is that there is very little if any data available to help you identify the winning players. <br>\n",
    "When there is little performance data available to train your model on, you have an advantage for unsupervised learning. In this type of machine learning problem, you can find similar players using some of their characteristics. This has been done using K-Means clustering. Ultimately this means you can get a better team more quickly at the start of the year, giving you an advantage."
   ]
  },
  {
   "cell_type": "markdown",
   "id": "cooked-rabbit",
   "metadata": {},
   "source": [
    "<b>Identifying fraudulent or criminal activity </b>"
   ]
  },
  {
   "cell_type": "markdown",
   "id": "integral-tours",
   "metadata": {},
   "source": [
    "In this scenario, we are going to focus on fraudulent taxi driver behavior. However, the technique has been used in multiple scenarios. <br>\n",
    "You need to look into fraudulent driving activity. The challenge is how do you identify what is true and which is false? <br>\n",
    "By analysing the GPS logs, the algorithm is able to group similar behaviors. Based on the characteristics of the groups you are then able to classify them into those that are real and which are fraudulent."
   ]
  },
  {
   "cell_type": "markdown",
   "id": "forbidden-precipitation",
   "metadata": {},
   "source": [
    "<img src=\"https://editor.analyticsvidhya.com/uploads/56854k%20means%20clustering.png\"></img>"
   ]
  },
  {
   "cell_type": "markdown",
   "id": "naughty-printer",
   "metadata": {},
   "source": [
    "Now you must have idea regarding this algorithm. Now let's discuss this algorithm in more details."
   ]
  },
  {
   "cell_type": "markdown",
   "id": "radio-traveler",
   "metadata": {},
   "source": [
    "K Means Clustering is an unsupervised machine learning. This algorithm finds the similarity between the points and try to put them into clusters."
   ]
  },
  {
   "cell_type": "markdown",
   "id": "nuclear-basin",
   "metadata": {},
   "source": [
    "<b>Steps to this algorithm :</b>"
   ]
  },
  {
   "cell_type": "markdown",
   "id": "buried-sugar",
   "metadata": {},
   "source": [
    "- Step 1 - We select the value of k(which we call it as centroids, we generally do it by Elbow Method)"
   ]
  },
  {
   "cell_type": "markdown",
   "id": "running-premiere",
   "metadata": {},
   "source": [
    "<img src=\"https://static.javatpoint.com/tutorial/machine-learning/images/k-means-clustering-algorithm-in-machine-learning2.png\"></img>"
   ]
  },
  {
   "cell_type": "markdown",
   "id": "dimensional-toronto",
   "metadata": {},
   "source": [
    "- Step 2 - We initialise these centroids randomly in the plane."
   ]
  },
  {
   "cell_type": "markdown",
   "id": "quick-outside",
   "metadata": {},
   "source": [
    "<img src=\"https://static.javatpoint.com/tutorial/machine-learning/images/k-means-clustering-algorithm-in-machine-learning3.png\"></img>"
   ]
  },
  {
   "cell_type": "markdown",
   "id": "supposed-trinity",
   "metadata": {},
   "source": [
    "- Step 3 - Now we will assign each data point to its closest K-point or centroid. We will compute it by using distance formula, either Euclidean or Manhattan. And, we will draw a median between both the centroids."
   ]
  },
  {
   "cell_type": "markdown",
   "id": "seventh-thing",
   "metadata": {},
   "source": [
    "<img src=\"https://static.javatpoint.com/tutorial/machine-learning/images/k-means-clustering-algorithm-in-machine-learning4.png\"></img>"
   ]
  },
  {
   "cell_type": "markdown",
   "id": "equal-uzbekistan",
   "metadata": {},
   "source": [
    "From the above image, it is clear that points left side of the line is near to the blue centroid, and points to the right of the line are close to the orange centroid. Let's color them as blue and orange for clear visualization."
   ]
  },
  {
   "cell_type": "markdown",
   "id": "nuclear-hebrew",
   "metadata": {},
   "source": [
    "<img src=\"https://static.javatpoint.com/tutorial/machine-learning/images/k-means-clustering-algorithm-in-machine-learning5.png\"></img>"
   ]
  },
  {
   "cell_type": "markdown",
   "id": "seasonal-comparative",
   "metadata": {},
   "source": [
    "- Step 4 - As we need to find the closest cluster, so we will repeat the process by choosing a new centroid. To choose the new centroids, we will compute the mean of the data points."
   ]
  },
  {
   "cell_type": "markdown",
   "id": "related-drinking",
   "metadata": {},
   "source": [
    "<img src=\"https://static.javatpoint.com/tutorial/machine-learning/images/k-means-clustering-algorithm-in-machine-learning6.png\"></img>"
   ]
  },
  {
   "cell_type": "markdown",
   "id": "important-hacker",
   "metadata": {},
   "source": [
    "- Step 5 - Next, we will reassign each datapoint to the new centroid. For this, we will repeat the same process of finding a median line. "
   ]
  },
  {
   "cell_type": "markdown",
   "id": "foreign-kansas",
   "metadata": {},
   "source": [
    "<img src=\"https://static.javatpoint.com/tutorial/machine-learning/images/k-means-clustering-algorithm-in-machine-learning7.png\"></img>"
   ]
  },
  {
   "cell_type": "markdown",
   "id": "large-truth",
   "metadata": {},
   "source": [
    "From the above image, we can see, one yellow point is on the left side of the line, and two blue points are right to the line. So, these three points will be assigned to new centroids."
   ]
  },
  {
   "cell_type": "markdown",
   "id": "crazy-granny",
   "metadata": {},
   "source": [
    "As reassignment has taken place, so we will again go to finding new centroids and then drawing the median line to see the clusters <br>\n",
    "\n",
    "We will repeat the process by finding the mean of the centroids, so the new centroids will be as shown in the below image:"
   ]
  },
  {
   "cell_type": "markdown",
   "id": "fifteen-leather",
   "metadata": {},
   "source": [
    "<img src=\"https://static.javatpoint.com/tutorial/machine-learning/images/k-means-clustering-algorithm-in-machine-learning9.png\"></img>"
   ]
  },
  {
   "cell_type": "markdown",
   "id": "outstanding-rings",
   "metadata": {},
   "source": [
    "<img src=\"https://static.javatpoint.com/tutorial/machine-learning/images/k-means-clustering-algorithm-in-machine-learning10.png\"></img>"
   ]
  },
  {
   "cell_type": "markdown",
   "id": "level-fitness",
   "metadata": {},
   "source": [
    "We will keep repeating the steps untill we get the fixed number of clusters and there is no movement of the centroid point. When we'll reach that point we'll get our final model."
   ]
  },
  {
   "cell_type": "markdown",
   "id": "meaning-piano",
   "metadata": {},
   "source": [
    "<img src=\"https://static.javatpoint.com/tutorial/machine-learning/images/k-means-clustering-algorithm-in-machine-learning11.png\"></img>"
   ]
  },
  {
   "cell_type": "markdown",
   "id": "protecting-overview",
   "metadata": {},
   "source": [
    "- Step 6 - Lastly, after getting the clusters we will remove our centroids."
   ]
  },
  {
   "cell_type": "markdown",
   "id": "qualified-cemetery",
   "metadata": {},
   "source": [
    "<img src=\"https://static.javatpoint.com/tutorial/machine-learning/images/k-means-clustering-algorithm-in-machine-learning12.png\"></img>"
   ]
  },
  {
   "cell_type": "markdown",
   "id": "administrative-textbook",
   "metadata": {},
   "source": [
    "<b>How do we determine the value of k in K Means Clustering?</b>"
   ]
  },
  {
   "cell_type": "markdown",
   "id": "center-couple",
   "metadata": {},
   "source": [
    "The performance of the K-means clustering algorithm depends upon highly efficient clusters that it forms. But choosing the optimal number of clusters is a big task. There are some different ways to find the optimal number of clusters, but here we are discussing the most appropriate method to find the number of clusters or value of K, which is Elbow Method\n",
    "\n"
   ]
  },
  {
   "cell_type": "markdown",
   "id": "grateful-globe",
   "metadata": {},
   "source": [
    "The Elbow method is one of the most popular ways to find the optimal number of clusters. This method uses the concept of WCSS value. WCSS stands for Within Cluster Sum of Squares, which defines the total variations within a cluster. "
   ]
  },
  {
   "cell_type": "markdown",
   "id": "alpha-technology",
   "metadata": {},
   "source": [
    "<img src=\"https://www.analyticsindiamag.com/wp-content/uploads/2019/08/4_wcss.png\"></img>"
   ]
  },
  {
   "cell_type": "markdown",
   "id": "developmental-eligibility",
   "metadata": {},
   "source": [
    "In the above formula of WCSS,<br>\n",
    "The Cluster distance(Pi C1)^2 is the sum of the square of the distances between each data point and its centroid within a particular cluster. <br>\n",
    "\n",
    "To measure the distance between data points and centroid, we can use any method such as Euclidean distance or Manhattan distance. <br>\n",
    "\n",
    "To find the optimal value of clusters, the elbow method follows the below steps: <br>\n",
    "\n",
    "- It executes the K-means clustering on a given dataset for different K values (ranges from 1-10).\n",
    "- For each value of K, calculates the WCSS value.\n",
    "- Plots a curve between calculated WCSS values and the number of clusters K.\n",
    "- The sharp point of bend or a point of the plot looks like an arm, then that point is considered as the best value of K. <br>\n",
    "Since the graph shows the sharp bend, which looks like an elbow, hence it is known as the elbow method. The graph for the elbow method looks like the below image:"
   ]
  },
  {
   "cell_type": "markdown",
   "id": "integral-singer",
   "metadata": {},
   "source": [
    "<img src=\"https://miro.medium.com/max/1378/1*6AJ0qOCplz_RIj61M5MToQ.png\"></img>"
   ]
  }
 ],
 "metadata": {
  "kernelspec": {
   "display_name": "Python 3",
   "language": "python",
   "name": "python3"
  },
  "language_info": {
   "codemirror_mode": {
    "name": "ipython",
    "version": 3
   },
   "file_extension": ".py",
   "mimetype": "text/x-python",
   "name": "python",
   "nbconvert_exporter": "python",
   "pygments_lexer": "ipython3",
   "version": "3.9.6"
  }
 },
 "nbformat": 4,
 "nbformat_minor": 5
}
