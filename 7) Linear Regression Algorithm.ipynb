{
 "cells": [
  {
   "cell_type": "markdown",
   "id": "southeast-wyoming",
   "metadata": {},
   "source": [
    "Let's start with the second algorithm today, which is Linear Regression."
   ]
  },
  {
   "cell_type": "markdown",
   "id": "korean-today",
   "metadata": {},
   "source": [
    "<b> Linear Regression </b>"
   ]
  },
  {
   "cell_type": "markdown",
   "id": "diverse-yield",
   "metadata": {},
   "source": [
    "Linear Regression is a predictive algorithm which provides a Linear relationship between Prediction (Call it ‘Y’) and Input (Call is ‘X’). <br>\n",
    "As we know from the basic maths that if we plot an ‘X’,’Y’ graph, a linear relationship will always come up with a straight line. For example, if we plot the graph of these values.\n",
    "(Input) X = 1,2,3,4,5\n",
    "(Prediction) Y = 1,2,3,4,5\n",
    "It will be a perfectly straight line:"
   ]
  },
  {
   "cell_type": "markdown",
   "id": "correct-sally",
   "metadata": {},
   "source": [
    "It is used to esimate real value (cost of houses, number of calls etc) based on continuous variable. Here, we establish relationship between independent and dependent variable by fitting a best line. <br>\n",
    "The best fit line is known as regression line and is represented by :<br>\n",
    "Y = a *X + b <br>\n",
    "   - where Y is dependent variable <br>\n",
    "   - a is slope <br>\n",
    "   - X is independent variable <br>\n",
    "   - b is intercept <br>"
   ]
  },
  {
   "cell_type": "markdown",
   "id": "corresponding-assembly",
   "metadata": {},
   "source": [
    "The coefficients a and b are derived based on minimizing the sum of squared difference of distance between data points and regression line."
   ]
  },
  {
   "cell_type": "markdown",
   "id": "sufficient-energy",
   "metadata": {},
   "source": [
    "<img src=\"https://static.wixstatic.com/media/02b811_fc93f61330d84649888709f7755c5dab~mv2.png/v1/fill/w_1000,h_626,al_c,usm_0.66_1.00_0.01/02b811_fc93f61330d84649888709f7755c5dab~mv2.png\">"
   ]
  },
  {
   "cell_type": "markdown",
   "id": "ecological-stewart",
   "metadata": {},
   "source": [
    "From the equation, when x = 0, then y = c"
   ]
  },
  {
   "cell_type": "markdown",
   "id": "constant-panel",
   "metadata": {},
   "source": [
    "We generally minimise the distance between the predicted and input values to obtain the best line.<br>\n",
    "Summation of all error (Cost function) should be minimum, that line will give us the required value of a and b."
   ]
  },
  {
   "cell_type": "markdown",
   "id": "intimate-duration",
   "metadata": {},
   "source": [
    "Cost Function : 1/2m ∑ (hω (xi)-yi)^2 where summation goes from i=1 to m. "
   ]
  },
  {
   "cell_type": "markdown",
   "id": "disturbed-choir",
   "metadata": {},
   "source": [
    "The usage of the square becomes very important later on when we look at algorithms that find the best weight combinations. Algorithms such as Gradient Descent, the most commonly used optimisation algorithm, requires the performance function to be differentiable and this squared error function satisfies that requirement."
   ]
  },
  {
   "cell_type": "markdown",
   "id": "automotive-contamination",
   "metadata": {},
   "source": [
    "The equation of line in ML theory, we convert this into an estimation function using omega’s (ω) or theta’s (θ) , which represent our weights."
   ]
  },
  {
   "cell_type": "markdown",
   "id": "alien-intranet",
   "metadata": {},
   "source": [
    "hθ(x) = θ0 + θ1x1 + θ2x2 + θ3x3 +…..+ θnxn <br>\n",
    "Now, this equation can be manipulated based on the features you have in your dataset however if we have 2 features, so for our equation will look like : <br>\n",
    "hθ(x) = θ0 + θ1x1 + θ2x2 <br>\n",
    "where x1 and x2 are the two features"
   ]
  },
  {
   "cell_type": "markdown",
   "id": "cloudy-presence",
   "metadata": {},
   "source": [
    "Here, weights are determined by the model, so they are intrinsic parameters. They can be thought of as our model assigning a “relevance figure” to each variable as to how much it relates to the output. The higher the weight, the more influence that feature has on the model output and the better descriptor it is for said output."
   ]
  },
  {
   "cell_type": "markdown",
   "id": "nuclear-murder",
   "metadata": {},
   "source": [
    "So now our main aim is to minimize the cost function, for that we need to find the best combination of weights. For this we have the method called <b> Gradient Descent </b>"
   ]
  },
  {
   "cell_type": "markdown",
   "id": "trying-connecticut",
   "metadata": {},
   "source": [
    "Gradient Descent follows the following procedures :\n",
    "- Start with some initial values for our weights θ0, θ1, …, θn\n",
    "- We keep updating our weights to reduce our cost function J(θ0, θ1, …, θn)\n",
    "- Stop when we have reached the minimum"
   ]
  },
  {
   "cell_type": "markdown",
   "id": "alpha-coating",
   "metadata": {},
   "source": [
    "The equation for gradient Descent is :"
   ]
  },
  {
   "cell_type": "markdown",
   "id": "amazing-construction",
   "metadata": {},
   "source": [
    "<img src =\"https://media.geeksforgeeks.org/wp-content/uploads/20200611183120/1406-7.png\">"
   ]
  },
  {
   "cell_type": "markdown",
   "id": "modified-growing",
   "metadata": {},
   "source": [
    "This above equation shows us exactly why we need our cost function to be differentiable. The algorithm we iterate over takes our current weight and subtracts from it the differentiated cost function multiplied by what is called a learning rate. The size of the learning rate will determine how quickly we converge to or diverge from the minimum value.\n"
   ]
  },
  {
   "cell_type": "markdown",
   "id": "matched-oregon",
   "metadata": {},
   "source": [
    "So since our cost function has a squared term, we know it takes the shape of a second order polynomial, so essentially a U-shape. By differentiating the cost function at each step of our gradient descent algorithm, we can find out the gradient of the point at which our cost function is at presently. Knowing that our optimal value, or the lowest possible cost value occurs at a gradient of 0, we now know which direction we need to travel in order to ensure we are consistently moving towards this value. At each iteration therefore, we move slightly closer to this combination of weights that return our minimum cost value."
   ]
  },
  {
   "cell_type": "markdown",
   "id": "given-sensitivity",
   "metadata": {},
   "source": [
    "<b>Now let's look at the significance of the learning rate.</b>"
   ]
  },
  {
   "cell_type": "markdown",
   "id": "innocent-basis",
   "metadata": {},
   "source": [
    "In gradient descent, during one iteration, we update all of our weights at the same time. <br>\n",
    "The learning rate indicates how quickly we reach the minimum value. We want a learning rate that isn’t too low, because it will take a long time to find the optimal value. A learning rate too high however, and our function might diverge meaning that it will never actually reach the optimal value. We need to find a value that will converge at the correct rate."
   ]
  },
  {
   "cell_type": "markdown",
   "id": "indirect-banking",
   "metadata": {},
   "source": [
    "<img src=\"https://miro.medium.com/max/1000/1*QG_Wj_dlXTYf6UQ8vvT78w.png\">"
   ]
  },
  {
   "cell_type": "markdown",
   "id": "alive-lloyd",
   "metadata": {},
   "source": [
    "Now let's take a dataset to understand this algorithm."
   ]
  },
  {
   "cell_type": "markdown",
   "id": "blocked-meter",
   "metadata": {},
   "source": [
    "Here I have taken a very simple dataset which just has two columns - Height and Weight. <br>\n",
    "This data set gives average masses for women as a function of their height in a sample of American women of age 30–39. <br>\n",
    "The data contains the variables Height (m) and Weight (kg)."
   ]
  },
  {
   "cell_type": "code",
   "execution_count": 1,
   "id": "agreed-pitch",
   "metadata": {},
   "outputs": [],
   "source": [
    "import pandas as pd\n",
    "import numpy as np\n",
    "import seaborn as sns\n",
    "import matplotlib.pyplot as plt\n",
    "from sklearn.model_selection import train_test_split\n",
    "from sklearn.metrics import mean_squared_error, mean_absolute_error, r2_score\n",
    "from sklearn.linear_model import LinearRegression\n",
    "from sklearn.model_selection import cross_val_score\n",
    "\n",
    "import warnings\n",
    "warnings.filterwarnings('ignore')"
   ]
  },
  {
   "cell_type": "code",
   "execution_count": 2,
   "id": "designing-idaho",
   "metadata": {},
   "outputs": [
    {
     "data": {
      "text/html": [
       "<div>\n",
       "<style scoped>\n",
       "    .dataframe tbody tr th:only-of-type {\n",
       "        vertical-align: middle;\n",
       "    }\n",
       "\n",
       "    .dataframe tbody tr th {\n",
       "        vertical-align: top;\n",
       "    }\n",
       "\n",
       "    .dataframe thead th {\n",
       "        text-align: right;\n",
       "    }\n",
       "</style>\n",
       "<table border=\"1\" class=\"dataframe\">\n",
       "  <thead>\n",
       "    <tr style=\"text-align: right;\">\n",
       "      <th></th>\n",
       "      <th>Height</th>\n",
       "      <th>Weight</th>\n",
       "    </tr>\n",
       "  </thead>\n",
       "  <tbody>\n",
       "    <tr>\n",
       "      <th>0</th>\n",
       "      <td>1.47</td>\n",
       "      <td>52.21</td>\n",
       "    </tr>\n",
       "    <tr>\n",
       "      <th>1</th>\n",
       "      <td>1.50</td>\n",
       "      <td>53.12</td>\n",
       "    </tr>\n",
       "    <tr>\n",
       "      <th>2</th>\n",
       "      <td>1.52</td>\n",
       "      <td>54.48</td>\n",
       "    </tr>\n",
       "    <tr>\n",
       "      <th>3</th>\n",
       "      <td>1.55</td>\n",
       "      <td>55.84</td>\n",
       "    </tr>\n",
       "    <tr>\n",
       "      <th>4</th>\n",
       "      <td>1.57</td>\n",
       "      <td>57.20</td>\n",
       "    </tr>\n",
       "    <tr>\n",
       "      <th>5</th>\n",
       "      <td>1.60</td>\n",
       "      <td>58.57</td>\n",
       "    </tr>\n",
       "    <tr>\n",
       "      <th>6</th>\n",
       "      <td>1.63</td>\n",
       "      <td>59.93</td>\n",
       "    </tr>\n",
       "    <tr>\n",
       "      <th>7</th>\n",
       "      <td>1.65</td>\n",
       "      <td>61.29</td>\n",
       "    </tr>\n",
       "    <tr>\n",
       "      <th>8</th>\n",
       "      <td>1.68</td>\n",
       "      <td>63.11</td>\n",
       "    </tr>\n",
       "    <tr>\n",
       "      <th>9</th>\n",
       "      <td>1.70</td>\n",
       "      <td>64.47</td>\n",
       "    </tr>\n",
       "  </tbody>\n",
       "</table>\n",
       "</div>"
      ],
      "text/plain": [
       "   Height  Weight\n",
       "0    1.47   52.21\n",
       "1    1.50   53.12\n",
       "2    1.52   54.48\n",
       "3    1.55   55.84\n",
       "4    1.57   57.20\n",
       "5    1.60   58.57\n",
       "6    1.63   59.93\n",
       "7    1.65   61.29\n",
       "8    1.68   63.11\n",
       "9    1.70   64.47"
      ]
     },
     "execution_count": 2,
     "metadata": {},
     "output_type": "execute_result"
    }
   ],
   "source": [
    "df = pd.read_csv(\"data.csv\")\n",
    "df.head(n=10)"
   ]
  },
  {
   "cell_type": "code",
   "execution_count": 3,
   "id": "excited-morris",
   "metadata": {},
   "outputs": [
    {
     "data": {
      "text/html": [
       "<div>\n",
       "<style scoped>\n",
       "    .dataframe tbody tr th:only-of-type {\n",
       "        vertical-align: middle;\n",
       "    }\n",
       "\n",
       "    .dataframe tbody tr th {\n",
       "        vertical-align: top;\n",
       "    }\n",
       "\n",
       "    .dataframe thead th {\n",
       "        text-align: right;\n",
       "    }\n",
       "</style>\n",
       "<table border=\"1\" class=\"dataframe\">\n",
       "  <thead>\n",
       "    <tr style=\"text-align: right;\">\n",
       "      <th></th>\n",
       "      <th>Height</th>\n",
       "      <th>Weight</th>\n",
       "    </tr>\n",
       "  </thead>\n",
       "  <tbody>\n",
       "    <tr>\n",
       "      <th>5</th>\n",
       "      <td>1.60</td>\n",
       "      <td>58.57</td>\n",
       "    </tr>\n",
       "    <tr>\n",
       "      <th>6</th>\n",
       "      <td>1.63</td>\n",
       "      <td>59.93</td>\n",
       "    </tr>\n",
       "    <tr>\n",
       "      <th>7</th>\n",
       "      <td>1.65</td>\n",
       "      <td>61.29</td>\n",
       "    </tr>\n",
       "    <tr>\n",
       "      <th>8</th>\n",
       "      <td>1.68</td>\n",
       "      <td>63.11</td>\n",
       "    </tr>\n",
       "    <tr>\n",
       "      <th>9</th>\n",
       "      <td>1.70</td>\n",
       "      <td>64.47</td>\n",
       "    </tr>\n",
       "    <tr>\n",
       "      <th>10</th>\n",
       "      <td>1.73</td>\n",
       "      <td>66.28</td>\n",
       "    </tr>\n",
       "    <tr>\n",
       "      <th>11</th>\n",
       "      <td>1.75</td>\n",
       "      <td>68.10</td>\n",
       "    </tr>\n",
       "    <tr>\n",
       "      <th>12</th>\n",
       "      <td>1.78</td>\n",
       "      <td>69.92</td>\n",
       "    </tr>\n",
       "    <tr>\n",
       "      <th>13</th>\n",
       "      <td>1.80</td>\n",
       "      <td>72.19</td>\n",
       "    </tr>\n",
       "    <tr>\n",
       "      <th>14</th>\n",
       "      <td>1.83</td>\n",
       "      <td>74.46</td>\n",
       "    </tr>\n",
       "  </tbody>\n",
       "</table>\n",
       "</div>"
      ],
      "text/plain": [
       "    Height  Weight\n",
       "5     1.60   58.57\n",
       "6     1.63   59.93\n",
       "7     1.65   61.29\n",
       "8     1.68   63.11\n",
       "9     1.70   64.47\n",
       "10    1.73   66.28\n",
       "11    1.75   68.10\n",
       "12    1.78   69.92\n",
       "13    1.80   72.19\n",
       "14    1.83   74.46"
      ]
     },
     "execution_count": 3,
     "metadata": {},
     "output_type": "execute_result"
    }
   ],
   "source": [
    "df.tail(n=10)"
   ]
  },
  {
   "cell_type": "code",
   "execution_count": 4,
   "id": "quiet-testing",
   "metadata": {},
   "outputs": [
    {
     "data": {
      "text/plain": [
       "<bound method NDFrame.describe of     Height  Weight\n",
       "0     1.47   52.21\n",
       "1     1.50   53.12\n",
       "2     1.52   54.48\n",
       "3     1.55   55.84\n",
       "4     1.57   57.20\n",
       "5     1.60   58.57\n",
       "6     1.63   59.93\n",
       "7     1.65   61.29\n",
       "8     1.68   63.11\n",
       "9     1.70   64.47\n",
       "10    1.73   66.28\n",
       "11    1.75   68.10\n",
       "12    1.78   69.92\n",
       "13    1.80   72.19\n",
       "14    1.83   74.46>"
      ]
     },
     "execution_count": 4,
     "metadata": {},
     "output_type": "execute_result"
    }
   ],
   "source": [
    "df.describe"
   ]
  },
  {
   "cell_type": "code",
   "execution_count": 5,
   "id": "religious-strap",
   "metadata": {},
   "outputs": [],
   "source": [
    "X = df[['Height']]\n",
    "y = df[['Weight']]"
   ]
  },
  {
   "cell_type": "code",
   "execution_count": 6,
   "id": "changing-agriculture",
   "metadata": {},
   "outputs": [
    {
     "data": {
      "image/png": "[encoded data removed]",
      "text/plain": [
       "<Figure size 432x288 with 1 Axes>"
      ]
     },
     "metadata": {
      "needs_background": "light"
     },
     "output_type": "display_data"
    }
   ],
   "source": [
    "fig = plt.figure()\n",
    "ax = fig.add_subplot(1,1,1)\n",
    "\n",
    "ax.plot(df['Height'], df['Weight'])\n",
    "ax.set_xlabel('input - x')\n",
    "ax.set_ylabel('target - y')\n",
    "plt.show()"
   ]
  },
  {
   "cell_type": "code",
   "execution_count": 7,
   "id": "smart-implement",
   "metadata": {},
   "outputs": [],
   "source": [
    "X_train, X_test,y_train,y_test=train_test_split(X,y,test_size=0.3,random_state=2)"
   ]
  },
  {
   "cell_type": "code",
   "execution_count": 8,
   "id": "supported-disclaimer",
   "metadata": {},
   "outputs": [
    {
     "name": "stdout",
     "output_type": "stream",
     "text": [
      "[0.57219091 0.86259489 0.99050514 0.97166823 0.96910794]\n"
     ]
    }
   ],
   "source": [
    "model = LinearRegression()\n",
    "scores = cross_val_score(model, X_train, y_train, cv= 5)\n",
    "print(scores)"
   ]
  },
  {
   "cell_type": "code",
   "execution_count": 9,
   "id": "dental-ordinance",
   "metadata": {},
   "outputs": [],
   "source": [
    "model=model.fit(X_train, y_train)\n",
    "y_pred=model.predict(X_test)"
   ]
  },
  {
   "cell_type": "code",
   "execution_count": 10,
   "id": "recognized-assignment",
   "metadata": {},
   "outputs": [],
   "source": [
    "model=model.fit(X_train, y_train)\n",
    "y_pred=model.predict(X_test)"
   ]
  },
  {
   "cell_type": "code",
   "execution_count": 11,
   "id": "qualified-defeat",
   "metadata": {},
   "outputs": [
    {
     "name": "stdout",
     "output_type": "stream",
     "text": [
      "Mean squared error:  0.6382139505042559\n",
      "R2 Score:  0.9795574502366999\n"
     ]
    }
   ],
   "source": [
    "MSE = mean_squared_error(y_test, y_pred)\n",
    "r2 = r2_score(y_test, y_pred)\n",
    "\n",
    "print('Mean squared error: ', MSE)\n",
    "print('R2 Score: ', r2)"
   ]
  },
  {
   "cell_type": "markdown",
   "id": "drawn-contributor",
   "metadata": {},
   "source": [
    "Here, Mean Square Error (MSE) is defined as Mean or Average of the square of the difference between actual and estimated values. <br>\n",
    "Coefficient of determination also called as R2 score is used to evaluate the performance of a linear regression model. It is the amount of the variation in the output dependent attribute which is predictable from the input independent variable(s). It is used to check how well-observed results are reproduced by the model, depending on the ratio of total deviation of results described by the model. <br>\n",
    "It's formula is given by : <br>\n",
    "<b>R2= 1- SS(res) / SS(tot)</b>\n",
    "- where SS(res) is the sum of squares of the residual errors.\n",
    "- SS(tot) is the total sum of the errors."
   ]
  },
  {
   "cell_type": "markdown",
   "id": "quality-tuner",
   "metadata": {},
   "source": [
    "We completed our second algorithm today. <br>\n",
    "Keep practising, download the datasets from kaggle and get started!<br>\n",
    "In the next repository we will discuss about our next algorithm KNN (K-Nearest Neighbour)"
   ]
  }
 ],
 "metadata": {
  "kernelspec": {
   "display_name": "Python 3",
   "language": "python",
   "name": "python3"
  },
  "language_info": {
   "codemirror_mode": {
    "name": "ipython",
    "version": 3
   },
   "file_extension": ".py",
   "mimetype": "text/x-python",
   "name": "python",
   "nbconvert_exporter": "python",
   "pygments_lexer": "ipython3",
   "version": "3.9.6"
  }
 },
 "nbformat": 4,
 "nbformat_minor": 5
}
