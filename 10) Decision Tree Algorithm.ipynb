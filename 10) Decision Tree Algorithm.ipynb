{
 "cells": [
  {
   "cell_type": "markdown",
   "id": "spanish-emerald",
   "metadata": {},
   "source": [
    "<b><center>Decision Tree Algorithm</b></center>"
   ]
  },
  {
   "cell_type": "markdown",
   "id": "compatible-vegetable",
   "metadata": {},
   "source": [
    "This algorithm is just like its name. If you ever want to take a decision, you use this algorithm."
   ]
  },
  {
   "cell_type": "markdown",
   "id": "naval-purchase",
   "metadata": {},
   "source": [
    "For example, if you are looking for a job, you'll look into some criterion such as whether it provides health insurance or cab facility, whether it is close to your house, whether it will pay you well according to the skill you have etc. Now here you'll try to make a decision tree like this."
   ]
  },
  {
   "cell_type": "markdown",
   "id": "western-lease",
   "metadata": {},
   "source": [
    "<img src=\"https://static.javatpoint.com/tutorial/machine-learning/images/decision-tree-classification-algorithm2.png\"></img>"
   ]
  },
  {
   "cell_type": "markdown",
   "id": "british-impact",
   "metadata": {},
   "source": [
    "So, this is what we call a decision tree. You represent your questions like this, dividing them into Yes or No and making furthur nodes to this tree."
   ]
  },
  {
   "cell_type": "markdown",
   "id": "promising-buying",
   "metadata": {},
   "source": [
    "Decision Tree is a Supervised learning technique that can be used for both classification and Regression problems, but mostly it is preferred for solving Classification problems."
   ]
  },
  {
   "cell_type": "markdown",
   "id": "herbal-pearl",
   "metadata": {},
   "source": [
    "Before looking into the code, let's understand the basic terms related to Decision Tree."
   ]
  },
  {
   "cell_type": "markdown",
   "id": "frequent-corporation",
   "metadata": {},
   "source": [
    "A decision tree is a map of the possible outcomes of a series of related choices. It allows an individual or organization to weigh possible actions against one another based on their costs, probabilities, and benefits. <br>\n",
    "A decision tree is a map of the possible outcomes of a series of related choices. It allows an individual or organization to weigh possible actions against one another based on their costs, probabilities, and benefits."
   ]
  },
  {
   "cell_type": "markdown",
   "id": "saving-czech",
   "metadata": {},
   "source": [
    "In a Decision tree, there are three nodes, which are the Decision Node, Leaf Node and Root Node, whiich is where the decision tree starts. It represents the entire dataset, which further gets divided into two or more homogeneous sets. Decision nodes are used to make any decision and have multiple branches, whereas Leaf nodes are the output of those decisions and do not contain any further branches."
   ]
  },
  {
   "cell_type": "markdown",
   "id": "earlier-sapphire",
   "metadata": {},
   "source": [
    "It is a graphical representation for getting all the possible solutions to a problem/decision based on given conditions.\n",
    "It is called a decision tree because, similar to a tree, it starts with the root node, which expands on further branches and constructs a tree-like structure."
   ]
  },
  {
   "cell_type": "markdown",
   "id": "stopped-investigator",
   "metadata": {},
   "source": [
    "<img src=\"https://static.javatpoint.com/tutorial/machine-learning/images/decision-tree-classification-algorithm.png\"></img>"
   ]
  },
  {
   "cell_type": "markdown",
   "id": "square-dispute",
   "metadata": {},
   "source": [
    "Why to use Decision Trees?\n",
    "- Decision Trees usually mimic human thinking ability while making a decision, so it is easy to understand.\n",
    "- The logic behind the decision tree can be easily understood because it shows a tree-like structure."
   ]
  },
  {
   "cell_type": "markdown",
   "id": "regional-consumer",
   "metadata": {},
   "source": [
    "There are more terms you should be familier wth:\n",
    "- <b>Splitting</b> is the process of dividing the decision node/root node into sub-nodes according to the given conditions.\n",
    "- <b>Branch/Sub Tree</b> is a tree formed by splitting the tree.\n",
    "- <b>Pruning</b> is the process of removing the unwanted branches from the tree.\n",
    "- The root node of the tree is called the <b>Parent Node</b> \n",
    "- All other nodes are called the <b>Child Nodes</b>"
   ]
  },
  {
   "cell_type": "markdown",
   "id": "dried-cache",
   "metadata": {},
   "source": [
    "In a decision tree, for predicting the class of the given dataset, the algorithm starts from the root node of the tree. This algorithm compares the values of root attribute with the dataset attribute and, based on the comparison, follows the branch and jumps to the next node. <br>\n",
    "\n",
    "For the next node, the algorithm again compares the attribute value with the other sub-nodes and move further. It continues the process until it reaches the leaf node of the tree. "
   ]
  },
  {
   "cell_type": "markdown",
   "id": "transsexual-personal",
   "metadata": {},
   "source": [
    "Below are the steps followed in the algorithm: <br>\n",
    "- Begin the tree with the root node which contains the complete dataset.\n",
    "- Find the best attribute in the dataset using Attribute Selection Measure (ASM).\n",
    "- Divide the root node into subsets that contains possible values for the best attributes.\n",
    "- Generate the decision tree node, which contains the best attribute.\n",
    "- Recursively make new decision trees using the subsets of the dataset created in point 3. Continue this process until a stage is reached where you cannot further classify the nodes and called the final node as a leaf node."
   ]
  },
  {
   "cell_type": "markdown",
   "id": "eastern-factory",
   "metadata": {},
   "source": [
    "While implementing a Decision tree, the main issue arises that how to select the best attribute for the root node and for sub-nodes. So, to solve such problems there is a technique which is called as <b>Attribute selection measure</b>. By this measurement, we can easily select the best attribute for the nodes of the tree. <br>\n",
    "There are two popular techniques for this, which are:<br>\n",
    "- Information Gain\n",
    "- Gini Index"
   ]
  },
  {
   "cell_type": "markdown",
   "id": "labeled-allah",
   "metadata": {},
   "source": [
    "<b>Information Gain</b>"
   ]
  },
  {
   "cell_type": "markdown",
   "id": "attempted-score",
   "metadata": {},
   "source": [
    "- Information gain is the measurement of changes in entropy after the segmentation of a dataset based on an attribute.\n",
    "- It calculates how much information a feature provides us about a class.\n",
    "- According to the value of information gain, we split the node and build the decision tree.\n",
    "- More the Information Gain, that split will be selected."
   ]
  },
  {
   "cell_type": "markdown",
   "id": "surprised-feeling",
   "metadata": {},
   "source": [
    "<b>Information Gain= Entropy(S)- [(Weighted Avg) *Entropy(each feature)]</b>"
   ]
  },
  {
   "cell_type": "markdown",
   "id": "becoming-buffer",
   "metadata": {},
   "source": [
    "Information gain can also be definied as :<br>\n",
    "<b>Information Gain = Entropy(parent) – [average Entropy(children)]</b>"
   ]
  },
  {
   "cell_type": "markdown",
   "id": "existing-belief",
   "metadata": {},
   "source": [
    "Before taking an example to understand this, let's understand what is entropy?"
   ]
  },
  {
   "cell_type": "markdown",
   "id": "enhanced-financing",
   "metadata": {},
   "source": [
    "Entropy is a metric to measure the impurity in a given attribute. It specifies randomness in data. Entropy can be calculated as: <br>\n",
    "<b>Entropy(s)= -P(yes)log2 P(yes)- P(no) log2 P(no) <br></b>\n",
    "\n",
    "- where S= Total number of samples\n",
    "- P(yes)= probability of yes\n",
    "- P(no)= probability of no"
   ]
  },
  {
   "cell_type": "markdown",
   "id": "acknowledged-investment",
   "metadata": {},
   "source": [
    "<b>Note:</b> A node is 100% impure when a node is split evenly 50/50 and 100% pure when all of its data belongs to a single class."
   ]
  },
  {
   "cell_type": "markdown",
   "id": "stainless-hudson",
   "metadata": {},
   "source": [
    "Now, let's take an example."
   ]
  },
  {
   "cell_type": "markdown",
   "id": "tropical-belly",
   "metadata": {},
   "source": [
    "We have f1, a node with 9 Yes and 5 No which splits into f2 with 6 Yes and 2 No and f3 with 3 Yes and 3 No."
   ]
  },
  {
   "cell_type": "markdown",
   "id": "interesting-nightmare",
   "metadata": {},
   "source": [
    "Let's calculate entropy of f1 (Parent Entropy)<br>\n",
    "H(f1) = -9/14 log(9/14) - [5/14 log(5/14)] <br>\n",
    "&emsp;&emsp; = -0.6428 * -0.6374 - [0.3571 * -1.4854] <br>\n",
    "&emsp;&emsp; = 0.40972072 - [-0.53043634] <br>\n",
    "&emsp;&emsp; = 0.40972072 + 0.53043634 <br>\n",
    "&emsp;&emsp; = 0.94015706 <br>"
   ]
  },
  {
   "cell_type": "markdown",
   "id": "unique-anthony",
   "metadata": {},
   "source": [
    "Entropy of f2 (Child Entropy) <br>\n",
    "H(f2) = -6/8 log(6/8) - [2/8 log(2/8)] <br>\n",
    "&emsp;&emsp; = -0.75 * -0.415 - [0.25 * -2] <br>\n",
    "&emsp;&emsp; =  0.31125 - [-0.5] <br>\n",
    "&emsp;&emsp; = 0.31125 + 0.5 <br>\n",
    "&emsp;&emsp; = 0.81125 <br>"
   ]
  },
  {
   "cell_type": "markdown",
   "id": "divine-draft",
   "metadata": {},
   "source": [
    "Entropy of f3 (Child Entropy) <br>\n",
    "H(f3) = -3/6 log(3/6) - [3/6 log(3/6)] <br>\n",
    "&emsp;&emsp; = -0.5 * -1 - [0.5 * -1] <br>\n",
    "&emsp;&emsp; =  0.5 - [-0.5] <br>\n",
    "&emsp;&emsp; = 0.5 + 0.5 <br>\n",
    "&emsp;&emsp; = 1 <br>"
   ]
  },
  {
   "cell_type": "markdown",
   "id": "abandoned-smart",
   "metadata": {},
   "source": [
    "Now we have H(f1) = 0.94015 <br>\n",
    "H(f2) = 0.81125 <br>\n",
    "H(f3) = 1 "
   ]
  },
  {
   "cell_type": "markdown",
   "id": "honest-spectacular",
   "metadata": {},
   "source": [
    "Now we have calculated the entropy. Let's calculate Information Gain. <br>\n",
    "<b>Gain(S,f1) = H(f1) - weighted average * H(f2) - weighted average * H(f2) </b>"
   ]
  },
  {
   "cell_type": "markdown",
   "id": "bigger-occupation",
   "metadata": {},
   "source": [
    "<b>Now what is weighted average here?</b>"
   ]
  },
  {
   "cell_type": "markdown",
   "id": "curious-concentrate",
   "metadata": {},
   "source": [
    "Weighted Average is the ratio of instances in child entropy and total instances in root entropy."
   ]
  },
  {
   "cell_type": "markdown",
   "id": "basic-rouge",
   "metadata": {},
   "source": [
    "Here, weighted average for f2 = 8 (6 Yes + 2 No) / 14 (9 Yes + 4 No) = 8/14 = 0.57142<br>\n",
    "Similarly weighted average for f3 = 6 (3 Yes + 3 No) / 14 (9 Yes + 4 No) = 6/14 = 0.42857"
   ]
  },
  {
   "cell_type": "markdown",
   "id": "small-mount",
   "metadata": {},
   "source": [
    "Gain(S,f1) = 0.94015 -  0.81125 *  0.57142 - 1 * 0.42857 <br>\n",
    "&emsp;&emsp;&emsp;&emsp;   = 0.94015 - 0.46356 - 0.42857 <br>\n",
    "&emsp;&emsp;&emsp;&emsp;   = 0.04802"
   ]
  },
  {
   "cell_type": "markdown",
   "id": "precious-vegetarian",
   "metadata": {},
   "source": [
    "This is the Information Gain for this Split. We can calculate the Information Gain for various split and comparen them. More the Information Gain, that split will be selected."
   ]
  },
  {
   "cell_type": "markdown",
   "id": "handy-hardwood",
   "metadata": {},
   "source": [
    "<b> Gini Impurity </b>"
   ]
  },
  {
   "cell_type": "markdown",
   "id": "narrow-event",
   "metadata": {},
   "source": [
    "- Gini index is a measure of impurity or purity used while creating a decision tree.\n",
    "- An attribute with the low Gini index should be preferred as compared to the high Gini index. It only creates binary splits.\n",
    "- Gini index can be calculated using the below formula: <br>\n",
    "&emsp;&emsp; <b>Gini Index= 1- ∑jPj^2</b>"
   ]
  },
  {
   "cell_type": "markdown",
   "id": "advance-uganda",
   "metadata": {},
   "source": [
    "Let's take an example to understand the formula."
   ]
  },
  {
   "cell_type": "markdown",
   "id": "gross-bottom",
   "metadata": {},
   "source": [
    "We have f1, a node with 6 Yes and 3 No which splits into C1 with 3 Yes and 3 No and C2 with 3 Yes and 0 No."
   ]
  },
  {
   "cell_type": "markdown",
   "id": "consistent-literacy",
   "metadata": {},
   "source": [
    "As we know Gini Index is given by = 1 - [(P+)^2 + (P-)^2] <br>\n",
    "Let's calculate Gini Impurity for C1 = 1 - [(3/6)^2 + (3/6)^2)] = 1 - [0.25 + 0.25] <br>\n",
    "&emsp;&emsp;&emsp;&emsp;&emsp;&emsp;&emsp;&emsp;&emsp;&emsp;&emsp;&emsp;&emsp;&emsp;&emsp;&emsp;&emsp;&emsp;&emsp;&emsp;&emsp;&emsp;&emsp;&emsp;&emsp;&emsp;&emsp;= 1- 0.5 <br>\n",
    "&emsp;&emsp;&emsp;&emsp;&emsp;&emsp;&emsp;&emsp;&emsp;&emsp;&emsp;&emsp;&emsp;&emsp;&emsp;&emsp;&emsp;&emsp;&emsp;&emsp;&emsp;&emsp;&emsp;&emsp;&emsp;&emsp;&emsp;= 0.5"
   ]
  },
  {
   "cell_type": "markdown",
   "id": "proper-painting",
   "metadata": {},
   "source": [
    "<b>Now the question arrises why do we use Gini Impurity over Entropy?</b><br>\n",
    "The gini criterion is much faster because it is less computationally expensive. <br>\n",
    "On the other hand, the obtained results using the entropy criterion are slightly better."
   ]
  },
  {
   "cell_type": "markdown",
   "id": "educated-forward",
   "metadata": {},
   "source": [
    "Advantages of the Decision Tree are as follows: <b>\n",
    "- It is simple to understand as it follows the same process which a human follow while making any decision in real-life.\n",
    "- It can be very useful for solving decision-related problems.\n",
    "- It helps to think about all the possible outcomes for a problem.\n",
    "- There is less requirement of data cleaning compared to other algorithms.\n"
   ]
  },
  {
   "cell_type": "markdown",
   "id": "controversial-ranch",
   "metadata": {},
   "source": [
    "Disadvantages of the Decision Tree are as follows:\n",
    "- The decision tree contains lots of layers, which makes it complex.\n",
    "- It may have an overfitting issue, which can be resolved using the <b>Random Forest algorithm</b>\n",
    "- For more class labels, the computational complexity of the decision tree may increase."
   ]
  },
  {
   "cell_type": "markdown",
   "id": "beautiful-millennium",
   "metadata": {},
   "source": [
    "Now let's start the coding part"
   ]
  },
  {
   "cell_type": "code",
   "execution_count": 1,
   "id": "welsh-guess",
   "metadata": {},
   "outputs": [],
   "source": [
    "import pandas as pd\n",
    "import numpy as np\n",
    "import matplotlib.pyplot as plt\n",
    "import seaborn as sns\n",
    "from sklearn.metrics import accuracy_score\n",
    "\n",
    "import warnings\n",
    "warnings.filterwarnings('ignore')"
   ]
  },
  {
   "cell_type": "code",
   "execution_count": 2,
   "id": "blessed-oasis",
   "metadata": {},
   "outputs": [
    {
     "data": {
      "text/plain": [
       "(1600, 12)"
      ]
     },
     "execution_count": 2,
     "metadata": {},
     "output_type": "execute_result"
    }
   ],
   "source": [
    "df = pd.read_csv('wine.csv', header=None)\n",
    "df.shape #This shows the number of rows and columns in our dataset"
   ]
  },
  {
   "cell_type": "code",
   "execution_count": 3,
   "id": "abandoned-eugene",
   "metadata": {},
   "outputs": [
    {
     "data": {
      "text/html": [
       "<div>\n",
       "<style scoped>\n",
       "    .dataframe tbody tr th:only-of-type {\n",
       "        vertical-align: middle;\n",
       "    }\n",
       "\n",
       "    .dataframe tbody tr th {\n",
       "        vertical-align: top;\n",
       "    }\n",
       "\n",
       "    .dataframe thead th {\n",
       "        text-align: right;\n",
       "    }\n",
       "</style>\n",
       "<table border=\"1\" class=\"dataframe\">\n",
       "  <thead>\n",
       "    <tr style=\"text-align: right;\">\n",
       "      <th></th>\n",
       "      <th>0</th>\n",
       "      <th>1</th>\n",
       "      <th>2</th>\n",
       "      <th>3</th>\n",
       "      <th>4</th>\n",
       "      <th>5</th>\n",
       "      <th>6</th>\n",
       "      <th>7</th>\n",
       "      <th>8</th>\n",
       "      <th>9</th>\n",
       "      <th>10</th>\n",
       "      <th>11</th>\n",
       "    </tr>\n",
       "  </thead>\n",
       "  <tbody>\n",
       "    <tr>\n",
       "      <th>0</th>\n",
       "      <td>fixed acidity</td>\n",
       "      <td>volatile acidity</td>\n",
       "      <td>citric acid</td>\n",
       "      <td>residual sugar</td>\n",
       "      <td>chlorides</td>\n",
       "      <td>free sulfur dioxide</td>\n",
       "      <td>total sulfur dioxide</td>\n",
       "      <td>density</td>\n",
       "      <td>pH</td>\n",
       "      <td>sulphates</td>\n",
       "      <td>alcohol</td>\n",
       "      <td>quality</td>\n",
       "    </tr>\n",
       "    <tr>\n",
       "      <th>1</th>\n",
       "      <td>7.4</td>\n",
       "      <td>0.7</td>\n",
       "      <td>0.0</td>\n",
       "      <td>1.9</td>\n",
       "      <td>0.076</td>\n",
       "      <td>11.0</td>\n",
       "      <td>34.0</td>\n",
       "      <td>0.9978</td>\n",
       "      <td>3.51</td>\n",
       "      <td>0.56</td>\n",
       "      <td>9.4</td>\n",
       "      <td>5</td>\n",
       "    </tr>\n",
       "    <tr>\n",
       "      <th>2</th>\n",
       "      <td>7.8</td>\n",
       "      <td>0.88</td>\n",
       "      <td>0.0</td>\n",
       "      <td>2.6</td>\n",
       "      <td>0.098</td>\n",
       "      <td>25.0</td>\n",
       "      <td>67.0</td>\n",
       "      <td>0.9968</td>\n",
       "      <td>3.2</td>\n",
       "      <td>0.68</td>\n",
       "      <td>9.8</td>\n",
       "      <td>5</td>\n",
       "    </tr>\n",
       "    <tr>\n",
       "      <th>3</th>\n",
       "      <td>7.8</td>\n",
       "      <td>0.76</td>\n",
       "      <td>0.04</td>\n",
       "      <td>2.3</td>\n",
       "      <td>0.092</td>\n",
       "      <td>15.0</td>\n",
       "      <td>54.0</td>\n",
       "      <td>0.997</td>\n",
       "      <td>3.26</td>\n",
       "      <td>0.65</td>\n",
       "      <td>9.8</td>\n",
       "      <td>5</td>\n",
       "    </tr>\n",
       "    <tr>\n",
       "      <th>4</th>\n",
       "      <td>11.2</td>\n",
       "      <td>0.28</td>\n",
       "      <td>0.56</td>\n",
       "      <td>1.9</td>\n",
       "      <td>0.075</td>\n",
       "      <td>17.0</td>\n",
       "      <td>60.0</td>\n",
       "      <td>0.998</td>\n",
       "      <td>3.16</td>\n",
       "      <td>0.58</td>\n",
       "      <td>9.8</td>\n",
       "      <td>6</td>\n",
       "    </tr>\n",
       "  </tbody>\n",
       "</table>\n",
       "</div>"
      ],
      "text/plain": [
       "              0                 1            2               3          4   \\\n",
       "0  fixed acidity  volatile acidity  citric acid  residual sugar  chlorides   \n",
       "1            7.4               0.7          0.0             1.9      0.076   \n",
       "2            7.8              0.88          0.0             2.6      0.098   \n",
       "3            7.8              0.76         0.04             2.3      0.092   \n",
       "4           11.2              0.28         0.56             1.9      0.075   \n",
       "\n",
       "                    5                     6        7     8          9   \\\n",
       "0  free sulfur dioxide  total sulfur dioxide  density    pH  sulphates   \n",
       "1                 11.0                  34.0   0.9978  3.51       0.56   \n",
       "2                 25.0                  67.0   0.9968   3.2       0.68   \n",
       "3                 15.0                  54.0    0.997  3.26       0.65   \n",
       "4                 17.0                  60.0    0.998  3.16       0.58   \n",
       "\n",
       "        10       11  \n",
       "0  alcohol  quality  \n",
       "1      9.4        5  \n",
       "2      9.8        5  \n",
       "3      9.8        5  \n",
       "4      9.8        6  "
      ]
     },
     "execution_count": 3,
     "metadata": {},
     "output_type": "execute_result"
    }
   ],
   "source": [
    "df.head()"
   ]
  },
  {
   "cell_type": "code",
   "execution_count": 4,
   "id": "covered-portuguese",
   "metadata": {},
   "outputs": [
    {
     "data": {
      "text/html": [
       "<div>\n",
       "<style scoped>\n",
       "    .dataframe tbody tr th:only-of-type {\n",
       "        vertical-align: middle;\n",
       "    }\n",
       "\n",
       "    .dataframe tbody tr th {\n",
       "        vertical-align: top;\n",
       "    }\n",
       "\n",
       "    .dataframe thead th {\n",
       "        text-align: right;\n",
       "    }\n",
       "</style>\n",
       "<table border=\"1\" class=\"dataframe\">\n",
       "  <thead>\n",
       "    <tr style=\"text-align: right;\">\n",
       "      <th></th>\n",
       "      <th>0</th>\n",
       "      <th>1</th>\n",
       "      <th>2</th>\n",
       "      <th>3</th>\n",
       "      <th>4</th>\n",
       "      <th>5</th>\n",
       "      <th>6</th>\n",
       "      <th>7</th>\n",
       "      <th>8</th>\n",
       "      <th>9</th>\n",
       "      <th>10</th>\n",
       "      <th>11</th>\n",
       "    </tr>\n",
       "  </thead>\n",
       "  <tbody>\n",
       "    <tr>\n",
       "      <th>1595</th>\n",
       "      <td>6.2</td>\n",
       "      <td>0.6</td>\n",
       "      <td>0.08</td>\n",
       "      <td>2.0</td>\n",
       "      <td>0.09</td>\n",
       "      <td>32.0</td>\n",
       "      <td>44.0</td>\n",
       "      <td>0.9949</td>\n",
       "      <td>3.45</td>\n",
       "      <td>0.58</td>\n",
       "      <td>10.5</td>\n",
       "      <td>5</td>\n",
       "    </tr>\n",
       "    <tr>\n",
       "      <th>1596</th>\n",
       "      <td>5.9</td>\n",
       "      <td>0.55</td>\n",
       "      <td>0.1</td>\n",
       "      <td>2.2</td>\n",
       "      <td>0.062</td>\n",
       "      <td>39.0</td>\n",
       "      <td>51.0</td>\n",
       "      <td>0.9951200000000001</td>\n",
       "      <td>3.52</td>\n",
       "      <td>0.76</td>\n",
       "      <td>11.2</td>\n",
       "      <td>6</td>\n",
       "    </tr>\n",
       "    <tr>\n",
       "      <th>1597</th>\n",
       "      <td>6.3</td>\n",
       "      <td>0.51</td>\n",
       "      <td>0.13</td>\n",
       "      <td>2.3</td>\n",
       "      <td>0.076</td>\n",
       "      <td>29.0</td>\n",
       "      <td>40.0</td>\n",
       "      <td>0.99574</td>\n",
       "      <td>3.42</td>\n",
       "      <td>0.75</td>\n",
       "      <td>11.0</td>\n",
       "      <td>6</td>\n",
       "    </tr>\n",
       "    <tr>\n",
       "      <th>1598</th>\n",
       "      <td>5.9</td>\n",
       "      <td>0.645</td>\n",
       "      <td>0.12</td>\n",
       "      <td>2.0</td>\n",
       "      <td>0.075</td>\n",
       "      <td>32.0</td>\n",
       "      <td>44.0</td>\n",
       "      <td>0.9954700000000001</td>\n",
       "      <td>3.57</td>\n",
       "      <td>0.71</td>\n",
       "      <td>10.2</td>\n",
       "      <td>5</td>\n",
       "    </tr>\n",
       "    <tr>\n",
       "      <th>1599</th>\n",
       "      <td>6.0</td>\n",
       "      <td>0.31</td>\n",
       "      <td>0.47</td>\n",
       "      <td>3.6</td>\n",
       "      <td>0.067</td>\n",
       "      <td>18.0</td>\n",
       "      <td>42.0</td>\n",
       "      <td>0.99549</td>\n",
       "      <td>3.39</td>\n",
       "      <td>0.66</td>\n",
       "      <td>11.0</td>\n",
       "      <td>6</td>\n",
       "    </tr>\n",
       "  </tbody>\n",
       "</table>\n",
       "</div>"
      ],
      "text/plain": [
       "       0      1     2    3      4     5     6                   7     8   \\\n",
       "1595  6.2    0.6  0.08  2.0   0.09  32.0  44.0              0.9949  3.45   \n",
       "1596  5.9   0.55   0.1  2.2  0.062  39.0  51.0  0.9951200000000001  3.52   \n",
       "1597  6.3   0.51  0.13  2.3  0.076  29.0  40.0             0.99574  3.42   \n",
       "1598  5.9  0.645  0.12  2.0  0.075  32.0  44.0  0.9954700000000001  3.57   \n",
       "1599  6.0   0.31  0.47  3.6  0.067  18.0  42.0             0.99549  3.39   \n",
       "\n",
       "        9     10 11  \n",
       "1595  0.58  10.5  5  \n",
       "1596  0.76  11.2  6  \n",
       "1597  0.75  11.0  6  \n",
       "1598  0.71  10.2  5  \n",
       "1599  0.66  11.0  6  "
      ]
     },
     "execution_count": 4,
     "metadata": {},
     "output_type": "execute_result"
    }
   ],
   "source": [
    "df.tail()"
   ]
  },
  {
   "cell_type": "code",
   "execution_count": 5,
   "id": "ethical-colonial",
   "metadata": {},
   "outputs": [
    {
     "data": {
      "text/html": [
       "<div>\n",
       "<style scoped>\n",
       "    .dataframe tbody tr th:only-of-type {\n",
       "        vertical-align: middle;\n",
       "    }\n",
       "\n",
       "    .dataframe tbody tr th {\n",
       "        vertical-align: top;\n",
       "    }\n",
       "\n",
       "    .dataframe thead th {\n",
       "        text-align: right;\n",
       "    }\n",
       "</style>\n",
       "<table border=\"1\" class=\"dataframe\">\n",
       "  <thead>\n",
       "    <tr style=\"text-align: right;\">\n",
       "      <th></th>\n",
       "      <th>Fixed acidity</th>\n",
       "      <th>Volatile acidity</th>\n",
       "      <th>Citric acid</th>\n",
       "      <th>Residual Sugar</th>\n",
       "      <th>Chlorides</th>\n",
       "      <th>Free sulphur dioxide</th>\n",
       "      <th>Total sulphur dioxide</th>\n",
       "      <th>Density</th>\n",
       "      <th>PH</th>\n",
       "      <th>Sulphates</th>\n",
       "      <th>Alcohol</th>\n",
       "      <th>Quality</th>\n",
       "    </tr>\n",
       "  </thead>\n",
       "  <tbody>\n",
       "    <tr>\n",
       "      <th>0</th>\n",
       "      <td>fixed acidity</td>\n",
       "      <td>volatile acidity</td>\n",
       "      <td>citric acid</td>\n",
       "      <td>residual sugar</td>\n",
       "      <td>chlorides</td>\n",
       "      <td>free sulfur dioxide</td>\n",
       "      <td>total sulfur dioxide</td>\n",
       "      <td>density</td>\n",
       "      <td>pH</td>\n",
       "      <td>sulphates</td>\n",
       "      <td>alcohol</td>\n",
       "      <td>quality</td>\n",
       "    </tr>\n",
       "    <tr>\n",
       "      <th>1</th>\n",
       "      <td>7.4</td>\n",
       "      <td>0.7</td>\n",
       "      <td>0.0</td>\n",
       "      <td>1.9</td>\n",
       "      <td>0.076</td>\n",
       "      <td>11.0</td>\n",
       "      <td>34.0</td>\n",
       "      <td>0.9978</td>\n",
       "      <td>3.51</td>\n",
       "      <td>0.56</td>\n",
       "      <td>9.4</td>\n",
       "      <td>5</td>\n",
       "    </tr>\n",
       "    <tr>\n",
       "      <th>2</th>\n",
       "      <td>7.8</td>\n",
       "      <td>0.88</td>\n",
       "      <td>0.0</td>\n",
       "      <td>2.6</td>\n",
       "      <td>0.098</td>\n",
       "      <td>25.0</td>\n",
       "      <td>67.0</td>\n",
       "      <td>0.9968</td>\n",
       "      <td>3.2</td>\n",
       "      <td>0.68</td>\n",
       "      <td>9.8</td>\n",
       "      <td>5</td>\n",
       "    </tr>\n",
       "    <tr>\n",
       "      <th>3</th>\n",
       "      <td>7.8</td>\n",
       "      <td>0.76</td>\n",
       "      <td>0.04</td>\n",
       "      <td>2.3</td>\n",
       "      <td>0.092</td>\n",
       "      <td>15.0</td>\n",
       "      <td>54.0</td>\n",
       "      <td>0.997</td>\n",
       "      <td>3.26</td>\n",
       "      <td>0.65</td>\n",
       "      <td>9.8</td>\n",
       "      <td>5</td>\n",
       "    </tr>\n",
       "    <tr>\n",
       "      <th>4</th>\n",
       "      <td>11.2</td>\n",
       "      <td>0.28</td>\n",
       "      <td>0.56</td>\n",
       "      <td>1.9</td>\n",
       "      <td>0.075</td>\n",
       "      <td>17.0</td>\n",
       "      <td>60.0</td>\n",
       "      <td>0.998</td>\n",
       "      <td>3.16</td>\n",
       "      <td>0.58</td>\n",
       "      <td>9.8</td>\n",
       "      <td>6</td>\n",
       "    </tr>\n",
       "  </tbody>\n",
       "</table>\n",
       "</div>"
      ],
      "text/plain": [
       "   Fixed acidity  Volatile acidity  Citric acid  Residual Sugar  Chlorides  \\\n",
       "0  fixed acidity  volatile acidity  citric acid  residual sugar  chlorides   \n",
       "1            7.4               0.7          0.0             1.9      0.076   \n",
       "2            7.8              0.88          0.0             2.6      0.098   \n",
       "3            7.8              0.76         0.04             2.3      0.092   \n",
       "4           11.2              0.28         0.56             1.9      0.075   \n",
       "\n",
       "  Free sulphur dioxide Total sulphur dioxide  Density    PH  Sulphates  \\\n",
       "0  free sulfur dioxide  total sulfur dioxide  density    pH  sulphates   \n",
       "1                 11.0                  34.0   0.9978  3.51       0.56   \n",
       "2                 25.0                  67.0   0.9968   3.2       0.68   \n",
       "3                 15.0                  54.0    0.997  3.26       0.65   \n",
       "4                 17.0                  60.0    0.998  3.16       0.58   \n",
       "\n",
       "   Alcohol  Quality  \n",
       "0  alcohol  quality  \n",
       "1      9.4        5  \n",
       "2      9.8        5  \n",
       "3      9.8        5  \n",
       "4      9.8        6  "
      ]
     },
     "execution_count": 5,
     "metadata": {},
     "output_type": "execute_result"
    }
   ],
   "source": [
    "col_names = ['Fixed acidity','Volatile acidity','Citric acid','Residual Sugar','Chlorides','Free sulphur dioxide','Total sulphur dioxide','Density','PH','Sulphates','Alcohol','Quality']\n",
    "df.columns = col_names\n",
    "df.head()"
   ]
  },
  {
   "cell_type": "code",
   "execution_count": 6,
   "id": "received-relations",
   "metadata": {},
   "outputs": [
    {
     "data": {
      "text/html": [
       "<div>\n",
       "<style scoped>\n",
       "    .dataframe tbody tr th:only-of-type {\n",
       "        vertical-align: middle;\n",
       "    }\n",
       "\n",
       "    .dataframe tbody tr th {\n",
       "        vertical-align: top;\n",
       "    }\n",
       "\n",
       "    .dataframe thead th {\n",
       "        text-align: right;\n",
       "    }\n",
       "</style>\n",
       "<table border=\"1\" class=\"dataframe\">\n",
       "  <thead>\n",
       "    <tr style=\"text-align: right;\">\n",
       "      <th></th>\n",
       "      <th>Fixed acidity</th>\n",
       "      <th>Volatile acidity</th>\n",
       "      <th>Citric acid</th>\n",
       "      <th>Residual Sugar</th>\n",
       "      <th>Chlorides</th>\n",
       "      <th>Free sulphur dioxide</th>\n",
       "      <th>Total sulphur dioxide</th>\n",
       "      <th>Density</th>\n",
       "      <th>PH</th>\n",
       "      <th>Sulphates</th>\n",
       "      <th>Alcohol</th>\n",
       "      <th>Quality</th>\n",
       "    </tr>\n",
       "  </thead>\n",
       "  <tbody>\n",
       "    <tr>\n",
       "      <th>1</th>\n",
       "      <td>7.4</td>\n",
       "      <td>0.7</td>\n",
       "      <td>0.0</td>\n",
       "      <td>1.9</td>\n",
       "      <td>0.076</td>\n",
       "      <td>11.0</td>\n",
       "      <td>34.0</td>\n",
       "      <td>0.9978</td>\n",
       "      <td>3.51</td>\n",
       "      <td>0.56</td>\n",
       "      <td>9.4</td>\n",
       "      <td>5</td>\n",
       "    </tr>\n",
       "    <tr>\n",
       "      <th>2</th>\n",
       "      <td>7.8</td>\n",
       "      <td>0.88</td>\n",
       "      <td>0.0</td>\n",
       "      <td>2.6</td>\n",
       "      <td>0.098</td>\n",
       "      <td>25.0</td>\n",
       "      <td>67.0</td>\n",
       "      <td>0.9968</td>\n",
       "      <td>3.2</td>\n",
       "      <td>0.68</td>\n",
       "      <td>9.8</td>\n",
       "      <td>5</td>\n",
       "    </tr>\n",
       "    <tr>\n",
       "      <th>3</th>\n",
       "      <td>7.8</td>\n",
       "      <td>0.76</td>\n",
       "      <td>0.04</td>\n",
       "      <td>2.3</td>\n",
       "      <td>0.092</td>\n",
       "      <td>15.0</td>\n",
       "      <td>54.0</td>\n",
       "      <td>0.997</td>\n",
       "      <td>3.26</td>\n",
       "      <td>0.65</td>\n",
       "      <td>9.8</td>\n",
       "      <td>5</td>\n",
       "    </tr>\n",
       "    <tr>\n",
       "      <th>4</th>\n",
       "      <td>11.2</td>\n",
       "      <td>0.28</td>\n",
       "      <td>0.56</td>\n",
       "      <td>1.9</td>\n",
       "      <td>0.075</td>\n",
       "      <td>17.0</td>\n",
       "      <td>60.0</td>\n",
       "      <td>0.998</td>\n",
       "      <td>3.16</td>\n",
       "      <td>0.58</td>\n",
       "      <td>9.8</td>\n",
       "      <td>6</td>\n",
       "    </tr>\n",
       "    <tr>\n",
       "      <th>5</th>\n",
       "      <td>7.4</td>\n",
       "      <td>0.7</td>\n",
       "      <td>0.0</td>\n",
       "      <td>1.9</td>\n",
       "      <td>0.076</td>\n",
       "      <td>11.0</td>\n",
       "      <td>34.0</td>\n",
       "      <td>0.9978</td>\n",
       "      <td>3.51</td>\n",
       "      <td>0.56</td>\n",
       "      <td>9.4</td>\n",
       "      <td>5</td>\n",
       "    </tr>\n",
       "  </tbody>\n",
       "</table>\n",
       "</div>"
      ],
      "text/plain": [
       "  Fixed acidity Volatile acidity Citric acid Residual Sugar Chlorides  \\\n",
       "1           7.4              0.7         0.0            1.9     0.076   \n",
       "2           7.8             0.88         0.0            2.6     0.098   \n",
       "3           7.8             0.76        0.04            2.3     0.092   \n",
       "4          11.2             0.28        0.56            1.9     0.075   \n",
       "5           7.4              0.7         0.0            1.9     0.076   \n",
       "\n",
       "  Free sulphur dioxide Total sulphur dioxide Density    PH Sulphates Alcohol  \\\n",
       "1                 11.0                  34.0  0.9978  3.51      0.56     9.4   \n",
       "2                 25.0                  67.0  0.9968   3.2      0.68     9.8   \n",
       "3                 15.0                  54.0   0.997  3.26      0.65     9.8   \n",
       "4                 17.0                  60.0   0.998  3.16      0.58     9.8   \n",
       "5                 11.0                  34.0  0.9978  3.51      0.56     9.4   \n",
       "\n",
       "  Quality  \n",
       "1       5  \n",
       "2       5  \n",
       "3       5  \n",
       "4       6  \n",
       "5       5  "
      ]
     },
     "execution_count": 6,
     "metadata": {},
     "output_type": "execute_result"
    }
   ],
   "source": [
    "data = df.drop(labels=0, axis=0)\n",
    "data.head()"
   ]
  },
  {
   "cell_type": "code",
   "execution_count": 7,
   "id": "decimal-causing",
   "metadata": {},
   "outputs": [
    {
     "data": {
      "text/plain": [
       "<bound method NDFrame._add_numeric_operations.<locals>.sum of       Fixed acidity  Volatile acidity  Citric acid  Residual Sugar  Chlorides  \\\n",
       "1             False             False        False           False      False   \n",
       "2             False             False        False           False      False   \n",
       "3             False             False        False           False      False   \n",
       "4             False             False        False           False      False   \n",
       "5             False             False        False           False      False   \n",
       "...             ...               ...          ...             ...        ...   \n",
       "1595          False             False        False           False      False   \n",
       "1596          False             False        False           False      False   \n",
       "1597          False             False        False           False      False   \n",
       "1598          False             False        False           False      False   \n",
       "1599          False             False        False           False      False   \n",
       "\n",
       "      Free sulphur dioxide  Total sulphur dioxide  Density     PH  Sulphates  \\\n",
       "1                    False                  False    False  False      False   \n",
       "2                    False                  False    False  False      False   \n",
       "3                    False                  False    False  False      False   \n",
       "4                    False                  False    False  False      False   \n",
       "5                    False                  False    False  False      False   \n",
       "...                    ...                    ...      ...    ...        ...   \n",
       "1595                 False                  False    False  False      False   \n",
       "1596                 False                  False    False  False      False   \n",
       "1597                 False                  False    False  False      False   \n",
       "1598                 False                  False    False  False      False   \n",
       "1599                 False                  False    False  False      False   \n",
       "\n",
       "      Alcohol  Quality  \n",
       "1       False    False  \n",
       "2       False    False  \n",
       "3       False    False  \n",
       "4       False    False  \n",
       "5       False    False  \n",
       "...       ...      ...  \n",
       "1595    False    False  \n",
       "1596    False    False  \n",
       "1597    False    False  \n",
       "1598    False    False  \n",
       "1599    False    False  \n",
       "\n",
       "[1599 rows x 12 columns]>"
      ]
     },
     "execution_count": 7,
     "metadata": {},
     "output_type": "execute_result"
    }
   ],
   "source": [
    "data.isnull().sum #To check whether there is any null value in the dataset"
   ]
  },
  {
   "cell_type": "code",
   "execution_count": 8,
   "id": "departmental-prevention",
   "metadata": {},
   "outputs": [],
   "source": [
    "X = data.drop(['Quality'],axis=1)\n",
    "y = data['Quality']"
   ]
  },
  {
   "cell_type": "code",
   "execution_count": 9,
   "id": "thorough-trick",
   "metadata": {},
   "outputs": [],
   "source": [
    "from sklearn.model_selection import train_test_split\n",
    "X_train, X_test, y_train, y_test = train_test_split(X,y, test_size= 0.2, random_state = 0)"
   ]
  },
  {
   "cell_type": "code",
   "execution_count": 10,
   "id": "robust-brown",
   "metadata": {},
   "outputs": [],
   "source": [
    "from sklearn.tree import DecisionTreeClassifier"
   ]
  },
  {
   "cell_type": "code",
   "execution_count": 11,
   "id": "talented-processing",
   "metadata": {},
   "outputs": [
    {
     "data": {
      "text/plain": [
       "DecisionTreeClassifier(max_depth=100, random_state=0)"
      ]
     },
     "execution_count": 11,
     "metadata": {},
     "output_type": "execute_result"
    }
   ],
   "source": [
    "clf_gini = DecisionTreeClassifier(criterion='gini', max_depth=100, random_state=0) #criterion is the function to measure the quality of a split. Supported criteria are “gini” for the Gini impurity and “entropy” for the information gain. max_depth defines the maximum depth of the tree\n",
    "#fit the model\n",
    "clf_gini.fit(X_train, y_train)"
   ]
  },
  {
   "cell_type": "code",
   "execution_count": 12,
   "id": "micro-pittsburgh",
   "metadata": {},
   "outputs": [],
   "source": [
    "y_pred_gini = clf_gini.predict(X_test)"
   ]
  },
  {
   "cell_type": "code",
   "execution_count": 13,
   "id": "stable-violin",
   "metadata": {},
   "outputs": [
    {
     "data": {
      "text/plain": [
       "0.69375"
      ]
     },
     "execution_count": 13,
     "metadata": {},
     "output_type": "execute_result"
    }
   ],
   "source": [
    "accuracy_score(y_test, y_pred_gini)"
   ]
  },
  {
   "cell_type": "markdown",
   "id": "intense-sacrifice",
   "metadata": {},
   "source": [
    "We completed our fifth algorithm today. <br>\n",
    "Keep practising, download the datasets from kaggle and get started! <br>\n",
    "In the next repository we will be starting with the Ridge and Lasso Regression"
   ]
  }
 ],
 "metadata": {
  "kernelspec": {
   "display_name": "Python 3",
   "language": "python",
   "name": "python3"
  },
  "language_info": {
   "codemirror_mode": {
    "name": "ipython",
    "version": 3
   },
   "file_extension": ".py",
   "mimetype": "text/x-python",
   "name": "python",
   "nbconvert_exporter": "python",
   "pygments_lexer": "ipython3",
   "version": "3.9.6"
  }
 },
 "nbformat": 4,
 "nbformat_minor": 5
}
